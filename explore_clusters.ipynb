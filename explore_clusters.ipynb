{
 "cells": [
  {
   "cell_type": "markdown",
   "metadata": {},
   "source": [
    "# ClusterEnsemble demonstration\n",
    "Some example usage of how to build up a dataframe of galaxy cluster properties, where each cluster is treated as an individual. This may be useful for fitting a stacked weak lensing profile, for example, where you want to avoid fitting a single average cluster mass and redshift."
   ]
  },
  {
   "cell_type": "code",
   "execution_count": 1,
   "metadata": {
    "collapsed": true
   },
   "outputs": [],
   "source": [
    "import numpy as np\n",
    "from clusters import ClusterEnsemble\n",
    "\n",
    "%load_ext autoreload\n",
    "%autoreload 2"
   ]
  },
  {
   "cell_type": "markdown",
   "metadata": {},
   "source": [
    "### Create a ClusterEnsemble object by passing in a numpy array (or list) of redshifts"
   ]
  },
  {
   "cell_type": "code",
   "execution_count": 2,
   "metadata": {
    "collapsed": false
   },
   "outputs": [
    {
     "data": {
      "text/plain": [
       "'Ensemble of galaxy clusters and their properties.'"
      ]
     },
     "execution_count": 2,
     "metadata": {},
     "output_type": "execute_result"
    }
   ],
   "source": [
    "z = np.array([0.1,0.2,0.3])\n",
    "c = ClusterEnsemble(z)\n",
    "c.describe"
   ]
  },
  {
   "cell_type": "markdown",
   "metadata": {},
   "source": [
    "### Display what we have so far\n",
    "Below the DataFrame, we see the default assumptions for the power-law slope and normalization that are used to convert richness $N_{200}$ to mass $M_{200}$. Soon we'll see how to change those parameters."
   ]
  },
  {
   "cell_type": "code",
   "execution_count": 3,
   "metadata": {
    "collapsed": false
   },
   "outputs": [
    {
     "name": "stdout",
     "output_type": "stream",
     "text": [
      "\n",
      "Cluster Ensemble:\n"
     ]
    },
    {
     "data": {
      "text/html": [
       "<div>\n",
       "<table border=\"1\" class=\"dataframe\">\n",
       "  <thead>\n",
       "    <tr style=\"text-align: right;\">\n",
       "      <th></th>\n",
       "      <th>z</th>\n",
       "    </tr>\n",
       "  </thead>\n",
       "  <tbody>\n",
       "    <tr>\n",
       "      <th>0</th>\n",
       "      <td>0.1</td>\n",
       "    </tr>\n",
       "    <tr>\n",
       "      <th>1</th>\n",
       "      <td>0.2</td>\n",
       "    </tr>\n",
       "    <tr>\n",
       "      <th>2</th>\n",
       "      <td>0.3</td>\n",
       "    </tr>\n",
       "  </tbody>\n",
       "</table>\n",
       "</div>"
      ],
      "text/plain": [
       "     z\n",
       "0  0.1\n",
       "1  0.2\n",
       "2  0.3"
      ]
     },
     "metadata": {},
     "output_type": "display_data"
    },
    {
     "name": "stdout",
     "output_type": "stream",
     "text": [
      "\n",
      "Mass-Richness Power Law: M200 = norm * N200^slope\n",
      "   norm: 2.7e+13\n",
      "   slope: 1.4\n"
     ]
    }
   ],
   "source": [
    "c.show()"
   ]
  },
  {
   "cell_type": "markdown",
   "metadata": {},
   "source": [
    "### Add richness values to the dataframe\n",
    "This step will also generate $M_{200}$, $r_{200}$, $c_{200}$, and scale radius $r_s$, assuming the scaling relation given below."
   ]
  },
  {
   "cell_type": "code",
   "execution_count": 4,
   "metadata": {
    "collapsed": false
   },
   "outputs": [
    {
     "name": "stdout",
     "output_type": "stream",
     "text": [
      "\n",
      "Cluster Ensemble:\n"
     ]
    },
    {
     "data": {
      "text/html": [
       "<div>\n",
       "<table border=\"1\" class=\"dataframe\">\n",
       "  <thead>\n",
       "    <tr style=\"text-align: right;\">\n",
       "      <th></th>\n",
       "      <th>z</th>\n",
       "      <th>n200</th>\n",
       "      <th>m200</th>\n",
       "      <th>r200</th>\n",
       "      <th>c200</th>\n",
       "      <th>rs</th>\n",
       "    </tr>\n",
       "  </thead>\n",
       "  <tbody>\n",
       "    <tr>\n",
       "      <th>0</th>\n",
       "      <td>0.1</td>\n",
       "      <td>20</td>\n",
       "      <td>1.789805e+15</td>\n",
       "      <td>6.079311e+13</td>\n",
       "      <td>3.852960</td>\n",
       "      <td>1.577829e+13</td>\n",
       "    </tr>\n",
       "    <tr>\n",
       "      <th>1</th>\n",
       "      <td>0.2</td>\n",
       "      <td>20</td>\n",
       "      <td>1.789805e+15</td>\n",
       "      <td>5.869395e+13</td>\n",
       "      <td>3.765176</td>\n",
       "      <td>1.558863e+13</td>\n",
       "    </tr>\n",
       "    <tr>\n",
       "      <th>2</th>\n",
       "      <td>0.3</td>\n",
       "      <td>20</td>\n",
       "      <td>1.789805e+15</td>\n",
       "      <td>5.654833e+13</td>\n",
       "      <td>3.670508</td>\n",
       "      <td>1.540613e+13</td>\n",
       "    </tr>\n",
       "  </tbody>\n",
       "</table>\n",
       "</div>"
      ],
      "text/plain": [
       "     z  n200          m200          r200      c200            rs\n",
       "0  0.1    20  1.789805e+15  6.079311e+13  3.852960  1.577829e+13\n",
       "1  0.2    20  1.789805e+15  5.869395e+13  3.765176  1.558863e+13\n",
       "2  0.3    20  1.789805e+15  5.654833e+13  3.670508  1.540613e+13"
      ]
     },
     "metadata": {},
     "output_type": "display_data"
    },
    {
     "name": "stdout",
     "output_type": "stream",
     "text": [
      "\n",
      "Mass-Richness Power Law: M200 = norm * N200^slope\n",
      "   norm: 2.7e+13\n",
      "   slope: 1.4\n"
     ]
    }
   ],
   "source": [
    "n200 = np.array([20.,20.,20.])\n",
    "c.update_richness(n200)\n",
    "c.show()"
   ]
  },
  {
   "cell_type": "markdown",
   "metadata": {},
   "source": [
    "### Access any column of the dataframe as an array\n",
    "Notice that units are present for the appropriate columns."
   ]
  },
  {
   "cell_type": "code",
   "execution_count": 5,
   "metadata": {
    "collapsed": false
   },
   "outputs": [
    {
     "name": "stdout",
     "output_type": "stream",
     "text": [
      "[ 0.1  0.2  0.3]\n",
      "[ 20.  20.  20.]\n",
      "[  6.07931071e+13   5.86939457e+13   5.65483305e+13] cm / g(1/3)\n",
      "[  1.78980517e+15   1.78980517e+15   1.78980517e+15]\n",
      "[ 3.85295976  3.76517588  3.67050787]\n",
      "[  1.57782876e+13   1.55886332e+13   1.54061324e+13] cm / g(1/3)\n"
     ]
    }
   ],
   "source": [
    "print c.z\n",
    "print c.n200\n",
    "print c.r200\n",
    "print c.m200\n",
    "print c.c200\n",
    "print c.rs"
   ]
  },
  {
   "cell_type": "markdown",
   "metadata": {},
   "source": [
    "### Change the redshifts or richness values\n",
    "These changes will propogate to all redshift-dependant or richness-dependant cluster attributes, as appropriate."
   ]
  },
  {
   "cell_type": "code",
   "execution_count": 6,
   "metadata": {
    "collapsed": false
   },
   "outputs": [
    {
     "name": "stdout",
     "output_type": "stream",
     "text": [
      "\n",
      "Cluster Ensemble:\n"
     ]
    },
    {
     "data": {
      "text/html": [
       "<div>\n",
       "<table border=\"1\" class=\"dataframe\">\n",
       "  <thead>\n",
       "    <tr style=\"text-align: right;\">\n",
       "      <th></th>\n",
       "      <th>z</th>\n",
       "      <th>n200</th>\n",
       "      <th>m200</th>\n",
       "      <th>r200</th>\n",
       "      <th>c200</th>\n",
       "      <th>rs</th>\n",
       "    </tr>\n",
       "  </thead>\n",
       "  <tbody>\n",
       "    <tr>\n",
       "      <th>0</th>\n",
       "      <td>0.4</td>\n",
       "      <td>20</td>\n",
       "      <td>1.789805e+15</td>\n",
       "      <td>5.439874e+13</td>\n",
       "      <td>3.576091</td>\n",
       "      <td>1.521179e+13</td>\n",
       "    </tr>\n",
       "    <tr>\n",
       "      <th>1</th>\n",
       "      <td>0.5</td>\n",
       "      <td>20</td>\n",
       "      <td>1.789805e+15</td>\n",
       "      <td>5.227930e+13</td>\n",
       "      <td>3.485412</td>\n",
       "      <td>1.499946e+13</td>\n",
       "    </tr>\n",
       "    <tr>\n",
       "      <th>2</th>\n",
       "      <td>0.6</td>\n",
       "      <td>20</td>\n",
       "      <td>1.789805e+15</td>\n",
       "      <td>5.021565e+13</td>\n",
       "      <td>3.400334</td>\n",
       "      <td>1.476786e+13</td>\n",
       "    </tr>\n",
       "  </tbody>\n",
       "</table>\n",
       "</div>"
      ],
      "text/plain": [
       "     z  n200          m200          r200      c200            rs\n",
       "0  0.4    20  1.789805e+15  5.439874e+13  3.576091  1.521179e+13\n",
       "1  0.5    20  1.789805e+15  5.227930e+13  3.485412  1.499946e+13\n",
       "2  0.6    20  1.789805e+15  5.021565e+13  3.400334  1.476786e+13"
      ]
     },
     "metadata": {},
     "output_type": "display_data"
    },
    {
     "name": "stdout",
     "output_type": "stream",
     "text": [
      "\n",
      "Mass-Richness Power Law: M200 = norm * N200^slope\n",
      "   norm: 2.7e+13\n",
      "   slope: 1.4\n"
     ]
    }
   ],
   "source": [
    "c.update_z(np.array([0.4,0.5,0.6]))\n",
    "c.show()"
   ]
  },
  {
   "cell_type": "code",
   "execution_count": 7,
   "metadata": {
    "collapsed": false
   },
   "outputs": [
    {
     "name": "stdout",
     "output_type": "stream",
     "text": [
      "\n",
      "Cluster Ensemble:\n"
     ]
    },
    {
     "data": {
      "text/html": [
       "<div>\n",
       "<table border=\"1\" class=\"dataframe\">\n",
       "  <thead>\n",
       "    <tr style=\"text-align: right;\">\n",
       "      <th></th>\n",
       "      <th>z</th>\n",
       "      <th>n200</th>\n",
       "      <th>m200</th>\n",
       "      <th>r200</th>\n",
       "      <th>c200</th>\n",
       "      <th>rs</th>\n",
       "    </tr>\n",
       "  </thead>\n",
       "  <tbody>\n",
       "    <tr>\n",
       "      <th>0</th>\n",
       "      <td>0.4</td>\n",
       "      <td>20</td>\n",
       "      <td>1.789805e+15</td>\n",
       "      <td>5.439874e+13</td>\n",
       "      <td>3.576091</td>\n",
       "      <td>1.521179e+13</td>\n",
       "    </tr>\n",
       "    <tr>\n",
       "      <th>1</th>\n",
       "      <td>0.5</td>\n",
       "      <td>30</td>\n",
       "      <td>3.157428e+15</td>\n",
       "      <td>6.316925e+13</td>\n",
       "      <td>3.315582</td>\n",
       "      <td>1.905224e+13</td>\n",
       "    </tr>\n",
       "    <tr>\n",
       "      <th>2</th>\n",
       "      <td>0.6</td>\n",
       "      <td>40</td>\n",
       "      <td>4.723324e+15</td>\n",
       "      <td>6.939365e+13</td>\n",
       "      <td>3.129900</td>\n",
       "      <td>2.217120e+13</td>\n",
       "    </tr>\n",
       "  </tbody>\n",
       "</table>\n",
       "</div>"
      ],
      "text/plain": [
       "     z  n200          m200          r200      c200            rs\n",
       "0  0.4    20  1.789805e+15  5.439874e+13  3.576091  1.521179e+13\n",
       "1  0.5    30  3.157428e+15  6.316925e+13  3.315582  1.905224e+13\n",
       "2  0.6    40  4.723324e+15  6.939365e+13  3.129900  2.217120e+13"
      ]
     },
     "metadata": {},
     "output_type": "display_data"
    },
    {
     "name": "stdout",
     "output_type": "stream",
     "text": [
      "\n",
      "Mass-Richness Power Law: M200 = norm * N200^slope\n",
      "   norm: 2.7e+13\n",
      "   slope: 1.4\n"
     ]
    }
   ],
   "source": [
    "c.update_richness(np.array([20,30,40]))\n",
    "c.show()"
   ]
  },
  {
   "cell_type": "markdown",
   "metadata": {},
   "source": [
    "### Change the parameters in the mass-richness relation\n",
    "Either or both of the parameters \"slope\" and \"norm\" can be passed to the update_massrichrelation() method."
   ]
  },
  {
   "cell_type": "code",
   "execution_count": 8,
   "metadata": {
    "collapsed": false
   },
   "outputs": [
    {
     "name": "stdout",
     "output_type": "stream",
     "text": [
      "\n",
      "Cluster Ensemble:\n"
     ]
    },
    {
     "data": {
      "text/html": [
       "<div>\n",
       "<table border=\"1\" class=\"dataframe\">\n",
       "  <thead>\n",
       "    <tr style=\"text-align: right;\">\n",
       "      <th></th>\n",
       "      <th>z</th>\n",
       "      <th>n200</th>\n",
       "      <th>m200</th>\n",
       "      <th>r200</th>\n",
       "      <th>c200</th>\n",
       "      <th>rs</th>\n",
       "    </tr>\n",
       "  </thead>\n",
       "  <tbody>\n",
       "    <tr>\n",
       "      <th>0</th>\n",
       "      <td>0.4</td>\n",
       "      <td>20</td>\n",
       "      <td>2.414953e+15</td>\n",
       "      <td>6.011135e+13</td>\n",
       "      <td>3.480336</td>\n",
       "      <td>1.727171e+13</td>\n",
       "    </tr>\n",
       "    <tr>\n",
       "      <th>1</th>\n",
       "      <td>0.5</td>\n",
       "      <td>30</td>\n",
       "      <td>4.436553e+15</td>\n",
       "      <td>7.075271e+13</td>\n",
       "      <td>3.217815</td>\n",
       "      <td>2.198781e+13</td>\n",
       "    </tr>\n",
       "    <tr>\n",
       "      <th>2</th>\n",
       "      <td>0.6</td>\n",
       "      <td>40</td>\n",
       "      <td>6.830520e+15</td>\n",
       "      <td>7.847327e+13</td>\n",
       "      <td>3.032836</td>\n",
       "      <td>2.587455e+13</td>\n",
       "    </tr>\n",
       "  </tbody>\n",
       "</table>\n",
       "</div>"
      ],
      "text/plain": [
       "     z  n200          m200          r200      c200            rs\n",
       "0  0.4    20  2.414953e+15  6.011135e+13  3.480336  1.727171e+13\n",
       "1  0.5    30  4.436553e+15  7.075271e+13  3.217815  2.198781e+13\n",
       "2  0.6    40  6.830520e+15  7.847327e+13  3.032836  2.587455e+13"
      ]
     },
     "metadata": {},
     "output_type": "display_data"
    },
    {
     "name": "stdout",
     "output_type": "stream",
     "text": [
      "\n",
      "Mass-Richness Power Law: M200 = norm * N200^slope\n",
      "   norm: 2.7e+13\n",
      "   slope: 1.5\n"
     ]
    }
   ],
   "source": [
    "c.update_massrichrelation(slope = 1.5)\n",
    "c.show()"
   ]
  },
  {
   "cell_type": "markdown",
   "metadata": {},
   "source": [
    "### Show basic table\n",
    "Perhaps we don't want the fancy pandas formatting on our table, or maybe we're not working in the Jupyter notebook."
   ]
  },
  {
   "cell_type": "code",
   "execution_count": 9,
   "metadata": {
    "collapsed": false
   },
   "outputs": [
    {
     "name": "stdout",
     "output_type": "stream",
     "text": [
      "\n",
      "Cluster Ensemble:\n",
      "     z  n200          m200          r200      c200            rs\n",
      "0  0.4    20  2.414953e+15  6.011135e+13  3.480336  1.727171e+13\n",
      "1  0.5    30  4.436553e+15  7.075271e+13  3.217815  2.198781e+13\n",
      "2  0.6    40  6.830520e+15  7.847327e+13  3.032836  2.587455e+13\n",
      "\n",
      "Mass-Richness Power Law: M200 = norm * N200^slope\n",
      "   norm: 2.7e+13\n",
      "   slope: 1.5\n"
     ]
    }
   ],
   "source": [
    "c.show(notebook = False)"
   ]
  }
 ],
 "metadata": {
  "kernelspec": {
   "display_name": "Python 2",
   "language": "python",
   "name": "python2"
  },
  "language_info": {
   "codemirror_mode": {
    "name": "ipython",
    "version": 2
   },
   "file_extension": ".py",
   "mimetype": "text/x-python",
   "name": "python",
   "nbconvert_exporter": "python",
   "pygments_lexer": "ipython2",
   "version": "2.7.10"
  }
 },
 "nbformat": 4,
 "nbformat_minor": 0
}
