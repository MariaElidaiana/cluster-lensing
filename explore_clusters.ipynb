{
 "cells": [
  {
   "cell_type": "markdown",
   "metadata": {},
   "source": [
    "# ClusterEnsemble demonstration\n",
    "Some example usage of how to build up a dataframe of galaxy cluster properties, where each cluster is treated as an individual. This may be useful for fitting a stacked weak lensing profile, for example, where you want to avoid fitting a single average cluster mass and redshift."
   ]
  },
  {
   "cell_type": "code",
   "execution_count": 1,
   "metadata": {
    "collapsed": false
   },
   "outputs": [],
   "source": [
    "from __future__ import absolute_import, division, print_function\n",
    "\n",
    "import numpy as np\n",
    "\n",
    "%load_ext autoreload\n",
    "%autoreload 2"
   ]
  },
  {
   "cell_type": "code",
   "execution_count": 2,
   "metadata": {
    "collapsed": true
   },
   "outputs": [],
   "source": [
    "from clusters import ClusterEnsemble"
   ]
  },
  {
   "cell_type": "markdown",
   "metadata": {},
   "source": [
    "### Create a ClusterEnsemble object by passing in a numpy array (or list) of redshifts"
   ]
  },
  {
   "cell_type": "code",
   "execution_count": 3,
   "metadata": {
    "collapsed": false
   },
   "outputs": [
    {
     "data": {
      "text/plain": [
       "'Ensemble of galaxy clusters and their properties.'"
      ]
     },
     "execution_count": 3,
     "metadata": {},
     "output_type": "execute_result"
    }
   ],
   "source": [
    "z = np.array([0.1,0.2,0.3])\n",
    "c = ClusterEnsemble(z)\n",
    "c.describe"
   ]
  },
  {
   "cell_type": "markdown",
   "metadata": {},
   "source": [
    "### Display what we have so far\n",
    "Below the DataFrame, we see the default assumptions for the power-law slope and normalization that are used to convert richness $N_{200}$ to mass $M_{200}$. Soon we'll see how to change those parameters."
   ]
  },
  {
   "cell_type": "code",
   "execution_count": 4,
   "metadata": {
    "collapsed": false
   },
   "outputs": [
    {
     "name": "stdout",
     "output_type": "stream",
     "text": [
      "\n",
      "Cluster Ensemble:\n"
     ]
    },
    {
     "data": {
      "text/html": [
       "<div>\n",
       "<table border=\"1\" class=\"dataframe\">\n",
       "  <thead>\n",
       "    <tr style=\"text-align: right;\">\n",
       "      <th></th>\n",
       "      <th>z</th>\n",
       "    </tr>\n",
       "  </thead>\n",
       "  <tbody>\n",
       "    <tr>\n",
       "      <th>0</th>\n",
       "      <td>0.1</td>\n",
       "    </tr>\n",
       "    <tr>\n",
       "      <th>1</th>\n",
       "      <td>0.2</td>\n",
       "    </tr>\n",
       "    <tr>\n",
       "      <th>2</th>\n",
       "      <td>0.3</td>\n",
       "    </tr>\n",
       "  </tbody>\n",
       "</table>\n",
       "</div>"
      ],
      "text/plain": [
       "     z\n",
       "0  0.1\n",
       "1  0.2\n",
       "2  0.3"
      ]
     },
     "metadata": {},
     "output_type": "display_data"
    },
    {
     "name": "stdout",
     "output_type": "stream",
     "text": [
      "\n",
      "Mass-Richness Power Law: M200 = norm * (N200 / 20) ^ slope\n",
      "   norm: 2.7e+13 solMass\n",
      "   slope: 1.4\n"
     ]
    }
   ],
   "source": [
    "c.show()"
   ]
  },
  {
   "cell_type": "markdown",
   "metadata": {},
   "source": [
    "### Add richness values to the dataframe\n",
    "This step will also generate $M_{200}$, $r_{200}$, $c_{200}$, and scale radius $r_s$, assuming the scaling relation given below."
   ]
  },
  {
   "cell_type": "code",
   "execution_count": 5,
   "metadata": {
    "collapsed": false
   },
   "outputs": [
    {
     "name": "stdout",
     "output_type": "stream",
     "text": [
      "\n",
      "Cluster Ensemble:\n"
     ]
    },
    {
     "data": {
      "text/html": [
       "<div>\n",
       "<table border=\"1\" class=\"dataframe\">\n",
       "  <thead>\n",
       "    <tr style=\"text-align: right;\">\n",
       "      <th></th>\n",
       "      <th>z</th>\n",
       "      <th>n200</th>\n",
       "      <th>m200</th>\n",
       "      <th>r200</th>\n",
       "      <th>c200</th>\n",
       "      <th>delta_c</th>\n",
       "      <th>rs</th>\n",
       "    </tr>\n",
       "  </thead>\n",
       "  <tbody>\n",
       "    <tr>\n",
       "      <th>0</th>\n",
       "      <td>0.1</td>\n",
       "      <td>20</td>\n",
       "      <td>2.700000e+13</td>\n",
       "      <td>0.612222</td>\n",
       "      <td>5.821359</td>\n",
       "      <td>12329.828385</td>\n",
       "      <td>0.105168</td>\n",
       "    </tr>\n",
       "    <tr>\n",
       "      <th>1</th>\n",
       "      <td>0.2</td>\n",
       "      <td>20</td>\n",
       "      <td>2.700000e+13</td>\n",
       "      <td>0.591082</td>\n",
       "      <td>5.627032</td>\n",
       "      <td>11398.735247</td>\n",
       "      <td>0.105043</td>\n",
       "    </tr>\n",
       "    <tr>\n",
       "      <th>2</th>\n",
       "      <td>0.3</td>\n",
       "      <td>20</td>\n",
       "      <td>2.700000e+13</td>\n",
       "      <td>0.569474</td>\n",
       "      <td>5.426060</td>\n",
       "      <td>10482.820471</td>\n",
       "      <td>0.104952</td>\n",
       "    </tr>\n",
       "  </tbody>\n",
       "</table>\n",
       "</div>"
      ],
      "text/plain": [
       "     z  n200          m200      r200      c200       delta_c        rs\n",
       "0  0.1    20  2.700000e+13  0.612222  5.821359  12329.828385  0.105168\n",
       "1  0.2    20  2.700000e+13  0.591082  5.627032  11398.735247  0.105043\n",
       "2  0.3    20  2.700000e+13  0.569474  5.426060  10482.820471  0.104952"
      ]
     },
     "metadata": {},
     "output_type": "display_data"
    },
    {
     "name": "stdout",
     "output_type": "stream",
     "text": [
      "\n",
      "Mass-Richness Power Law: M200 = norm * (N200 / 20) ^ slope\n",
      "   norm: 2.7e+13 solMass\n",
      "   slope: 1.4\n"
     ]
    }
   ],
   "source": [
    "n200 = np.array([20.,20.,20.])\n",
    "c.update_richness(n200)\n",
    "c.show()"
   ]
  },
  {
   "cell_type": "markdown",
   "metadata": {},
   "source": [
    "### Access any column of the dataframe as an array\n",
    "Notice that units are present for the appropriate columns."
   ]
  },
  {
   "cell_type": "code",
   "execution_count": 6,
   "metadata": {
    "collapsed": false
   },
   "outputs": [
    {
     "name": "stdout",
     "output_type": "stream",
     "text": [
      "z: \t [ 0.1  0.2  0.3]\n",
      "N_200: \t [ 20.  20.  20.]\n",
      "r_200: \t [ 0.61222163  0.59108187  0.56947428] Mpc\n",
      "M_200: \t [  2.70000000e+13   2.70000000e+13   2.70000000e+13] solMass\n",
      "c_200: \t [ 5.82135877  5.62703234  5.42605953]\n",
      "r_s: \t [ 0.10516817  0.10504327  0.10495172] Mpc\n"
     ]
    }
   ],
   "source": [
    "print('z: \\t', c.z)\n",
    "print('N_200: \\t', c.n200)\n",
    "print('r_200: \\t', c.r200)\n",
    "print('M_200: \\t', c.m200)\n",
    "print('c_200: \\t', c.c200)\n",
    "print('r_s: \\t', c.rs)"
   ]
  },
  {
   "cell_type": "markdown",
   "metadata": {},
   "source": [
    "### Change the redshifts or richness values\n",
    "These changes will propogate to all redshift-dependant or richness-dependant cluster attributes, as appropriate."
   ]
  },
  {
   "cell_type": "code",
   "execution_count": 7,
   "metadata": {
    "collapsed": false
   },
   "outputs": [
    {
     "name": "stdout",
     "output_type": "stream",
     "text": [
      "\n",
      "Cluster Ensemble:\n"
     ]
    },
    {
     "data": {
      "text/html": [
       "<div>\n",
       "<table border=\"1\" class=\"dataframe\">\n",
       "  <thead>\n",
       "    <tr style=\"text-align: right;\">\n",
       "      <th></th>\n",
       "      <th>z</th>\n",
       "      <th>n200</th>\n",
       "      <th>m200</th>\n",
       "      <th>r200</th>\n",
       "      <th>c200</th>\n",
       "      <th>delta_c</th>\n",
       "      <th>rs</th>\n",
       "    </tr>\n",
       "  </thead>\n",
       "  <tbody>\n",
       "    <tr>\n",
       "      <th>0</th>\n",
       "      <td>0.4</td>\n",
       "      <td>20</td>\n",
       "      <td>2.700000e+13</td>\n",
       "      <td>0.547827</td>\n",
       "      <td>5.229151</td>\n",
       "      <td>9630.870869</td>\n",
       "      <td>0.104764</td>\n",
       "    </tr>\n",
       "    <tr>\n",
       "      <th>1</th>\n",
       "      <td>0.5</td>\n",
       "      <td>20</td>\n",
       "      <td>2.700000e+13</td>\n",
       "      <td>0.526483</td>\n",
       "      <td>5.041283</td>\n",
       "      <td>8859.107775</td>\n",
       "      <td>0.104434</td>\n",
       "    </tr>\n",
       "    <tr>\n",
       "      <th>2</th>\n",
       "      <td>0.6</td>\n",
       "      <td>20</td>\n",
       "      <td>2.700000e+13</td>\n",
       "      <td>0.505701</td>\n",
       "      <td>4.864887</td>\n",
       "      <td>8170.244874</td>\n",
       "      <td>0.103949</td>\n",
       "    </tr>\n",
       "  </tbody>\n",
       "</table>\n",
       "</div>"
      ],
      "text/plain": [
       "     z  n200          m200      r200      c200      delta_c        rs\n",
       "0  0.4    20  2.700000e+13  0.547827  5.229151  9630.870869  0.104764\n",
       "1  0.5    20  2.700000e+13  0.526483  5.041283  8859.107775  0.104434\n",
       "2  0.6    20  2.700000e+13  0.505701  4.864887  8170.244874  0.103949"
      ]
     },
     "metadata": {},
     "output_type": "display_data"
    },
    {
     "name": "stdout",
     "output_type": "stream",
     "text": [
      "\n",
      "Mass-Richness Power Law: M200 = norm * (N200 / 20) ^ slope\n",
      "   norm: 2.7e+13 solMass\n",
      "   slope: 1.4\n"
     ]
    }
   ],
   "source": [
    "c.update_z(np.array([0.4,0.5,0.6]))\n",
    "c.show()"
   ]
  },
  {
   "cell_type": "code",
   "execution_count": 9,
   "metadata": {
    "collapsed": false
   },
   "outputs": [
    {
     "name": "stdout",
     "output_type": "stream",
     "text": [
      "\n",
      "Cluster Ensemble:\n"
     ]
    },
    {
     "data": {
      "text/html": [
       "<div>\n",
       "<table border=\"1\" class=\"dataframe\">\n",
       "  <thead>\n",
       "    <tr style=\"text-align: right;\">\n",
       "      <th></th>\n",
       "      <th>z</th>\n",
       "      <th>n200</th>\n",
       "      <th>m200</th>\n",
       "      <th>r200</th>\n",
       "      <th>c200</th>\n",
       "      <th>delta_c</th>\n",
       "      <th>rs</th>\n",
       "    </tr>\n",
       "  </thead>\n",
       "  <tbody>\n",
       "    <tr>\n",
       "      <th>0</th>\n",
       "      <td>0.4</td>\n",
       "      <td>20</td>\n",
       "      <td>2.700000e+13</td>\n",
       "      <td>0.547827</td>\n",
       "      <td>5.229151</td>\n",
       "      <td>9630.870869</td>\n",
       "      <td>0.104764</td>\n",
       "    </tr>\n",
       "    <tr>\n",
       "      <th>1</th>\n",
       "      <td>0.5</td>\n",
       "      <td>30</td>\n",
       "      <td>4.763120e+13</td>\n",
       "      <td>0.636151</td>\n",
       "      <td>4.795641</td>\n",
       "      <td>7909.142281</td>\n",
       "      <td>0.132652</td>\n",
       "    </tr>\n",
       "    <tr>\n",
       "      <th>2</th>\n",
       "      <td>0.6</td>\n",
       "      <td>40</td>\n",
       "      <td>7.125343e+13</td>\n",
       "      <td>0.698834</td>\n",
       "      <td>4.477974</td>\n",
       "      <td>6777.240275</td>\n",
       "      <td>0.156060</td>\n",
       "    </tr>\n",
       "  </tbody>\n",
       "</table>\n",
       "</div>"
      ],
      "text/plain": [
       "     z  n200          m200      r200      c200      delta_c        rs\n",
       "0  0.4    20  2.700000e+13  0.547827  5.229151  9630.870869  0.104764\n",
       "1  0.5    30  4.763120e+13  0.636151  4.795641  7909.142281  0.132652\n",
       "2  0.6    40  7.125343e+13  0.698834  4.477974  6777.240275  0.156060"
      ]
     },
     "metadata": {},
     "output_type": "display_data"
    },
    {
     "name": "stdout",
     "output_type": "stream",
     "text": [
      "\n",
      "Mass-Richness Power Law: M200 = norm * (N200 / 20) ^ slope\n",
      "   norm: 2.7e+13 solMass\n",
      "   slope: 1.4\n"
     ]
    }
   ],
   "source": [
    "c.update_richness(np.array([20,30,40]))\n",
    "c.show()"
   ]
  },
  {
   "cell_type": "markdown",
   "metadata": {},
   "source": [
    "### Change the parameters in the mass-richness relation\n",
    "Either or both of the parameters \"slope\" and \"norm\" can be passed to the update_massrichrelation() method."
   ]
  },
  {
   "cell_type": "code",
   "execution_count": 10,
   "metadata": {
    "collapsed": false
   },
   "outputs": [
    {
     "name": "stdout",
     "output_type": "stream",
     "text": [
      "\n",
      "Cluster Ensemble:\n"
     ]
    },
    {
     "data": {
      "text/html": [
       "<div>\n",
       "<table border=\"1\" class=\"dataframe\">\n",
       "  <thead>\n",
       "    <tr style=\"text-align: right;\">\n",
       "      <th></th>\n",
       "      <th>z</th>\n",
       "      <th>n200</th>\n",
       "      <th>m200</th>\n",
       "      <th>r200</th>\n",
       "      <th>c200</th>\n",
       "      <th>delta_c</th>\n",
       "      <th>rs</th>\n",
       "    </tr>\n",
       "  </thead>\n",
       "  <tbody>\n",
       "    <tr>\n",
       "      <th>0</th>\n",
       "      <td>0.4</td>\n",
       "      <td>20</td>\n",
       "      <td>2.700000e+13</td>\n",
       "      <td>0.547827</td>\n",
       "      <td>5.229151</td>\n",
       "      <td>9630.870869</td>\n",
       "      <td>0.104764</td>\n",
       "    </tr>\n",
       "    <tr>\n",
       "      <th>1</th>\n",
       "      <td>0.5</td>\n",
       "      <td>30</td>\n",
       "      <td>4.960217e+13</td>\n",
       "      <td>0.644807</td>\n",
       "      <td>4.778560</td>\n",
       "      <td>7845.536637</td>\n",
       "      <td>0.134938</td>\n",
       "    </tr>\n",
       "    <tr>\n",
       "      <th>2</th>\n",
       "      <td>0.6</td>\n",
       "      <td>40</td>\n",
       "      <td>7.636753e+13</td>\n",
       "      <td>0.715169</td>\n",
       "      <td>4.451545</td>\n",
       "      <td>6687.866844</td>\n",
       "      <td>0.160656</td>\n",
       "    </tr>\n",
       "  </tbody>\n",
       "</table>\n",
       "</div>"
      ],
      "text/plain": [
       "     z  n200          m200      r200      c200      delta_c        rs\n",
       "0  0.4    20  2.700000e+13  0.547827  5.229151  9630.870869  0.104764\n",
       "1  0.5    30  4.960217e+13  0.644807  4.778560  7845.536637  0.134938\n",
       "2  0.6    40  7.636753e+13  0.715169  4.451545  6687.866844  0.160656"
      ]
     },
     "metadata": {},
     "output_type": "display_data"
    },
    {
     "name": "stdout",
     "output_type": "stream",
     "text": [
      "\n",
      "Mass-Richness Power Law: M200 = norm * (N200 / 20) ^ slope\n",
      "   norm: 2.7e+13 solMass\n",
      "   slope: 1.5\n"
     ]
    }
   ],
   "source": [
    "c.update_massrichrelation(slope = 1.5)\n",
    "c.show()"
   ]
  },
  {
   "cell_type": "markdown",
   "metadata": {},
   "source": [
    "### Show basic table\n",
    "Perhaps we don't want the fancy pandas formatting on our table, or maybe we're not working in the Jupyter notebook."
   ]
  },
  {
   "cell_type": "code",
   "execution_count": 11,
   "metadata": {
    "collapsed": false
   },
   "outputs": [
    {
     "name": "stdout",
     "output_type": "stream",
     "text": [
      "\n",
      "Cluster Ensemble:\n",
      "     z  n200          m200      r200      c200      delta_c        rs\n",
      "0  0.4    20  2.700000e+13  0.547827  5.229151  9630.870869  0.104764\n",
      "1  0.5    30  4.960217e+13  0.644807  4.778560  7845.536637  0.134938\n",
      "2  0.6    40  7.636753e+13  0.715169  4.451545  6687.866844  0.160656\n",
      "\n",
      "Mass-Richness Power Law: M200 = norm * (N200 / 20) ^ slope\n",
      "   norm: 2.7e+13 solMass\n",
      "   slope: 1.5\n"
     ]
    }
   ],
   "source": [
    "c.show(notebook = False)"
   ]
  },
  {
   "cell_type": "code",
   "execution_count": null,
   "metadata": {
    "collapsed": true
   },
   "outputs": [],
   "source": []
  },
  {
   "cell_type": "code",
   "execution_count": null,
   "metadata": {
    "collapsed": true
   },
   "outputs": [],
   "source": []
  }
 ],
 "metadata": {
  "kernelspec": {
   "display_name": "Python 2",
   "language": "python",
   "name": "python2"
  },
  "language_info": {
   "codemirror_mode": {
    "name": "ipython",
    "version": 2
   },
   "file_extension": ".py",
   "mimetype": "text/x-python",
   "name": "python",
   "nbconvert_exporter": "python",
   "pygments_lexer": "ipython2",
   "version": "2.7.10"
  }
 },
 "nbformat": 4,
 "nbformat_minor": 0
}
