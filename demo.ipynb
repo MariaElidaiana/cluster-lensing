{
 "cells": [
  {
   "cell_type": "markdown",
   "metadata": {},
   "source": [
    "# ClusterEnsemble demonstration\n",
    "Some example usage of how to build up a dataframe of galaxy cluster properties, including NFW halo profiles. Each cluster is treated as an individual, meaning we track its individual mass and redshift, and other properties. This is useful for fitting a stacked weak lensing profile, for example, where you want to avoid fitting a single average cluster mass."
   ]
  },
  {
   "cell_type": "code",
   "execution_count": 1,
   "metadata": {
    "collapsed": false
   },
   "outputs": [],
   "source": [
    "from __future__ import absolute_import, division, print_function\n",
    "\n",
    "%matplotlib inline\n",
    "%load_ext autoreload\n",
    "%autoreload 2\n",
    "\n",
    "import numpy as np\n",
    "from astropy import units\n",
    "from matplotlib import pyplot as plt\n",
    "\n",
    "#import seaborn as sns; sns.set() "
   ]
  },
  {
   "cell_type": "code",
   "execution_count": 2,
   "metadata": {
    "collapsed": false
   },
   "outputs": [],
   "source": [
    "from clusters import ClusterEnsemble"
   ]
  },
  {
   "cell_type": "markdown",
   "metadata": {},
   "source": [
    "### Create a ClusterEnsemble object by passing in a numpy array (or list) of redshifts"
   ]
  },
  {
   "cell_type": "code",
   "execution_count": 3,
   "metadata": {
    "collapsed": false
   },
   "outputs": [
    {
     "data": {
      "text/plain": [
       "'Ensemble of galaxy clusters and their properties.'"
      ]
     },
     "execution_count": 3,
     "metadata": {},
     "output_type": "execute_result"
    }
   ],
   "source": [
    "z = np.array([0.1,0.2,0.3])\n",
    "c = ClusterEnsemble(z)\n",
    "c.describe"
   ]
  },
  {
   "cell_type": "markdown",
   "metadata": {},
   "source": [
    "### Display what we have so far\n",
    "Below the DataFrame (which so far only contains the cluster redshifts), we see the default assumptions for the power-law slope and normalization that will be used to convert richness $N_{200}$ to mass $M_{200}$. We'll see how to change those parameters below."
   ]
  },
  {
   "cell_type": "code",
   "execution_count": 4,
   "metadata": {
    "collapsed": false
   },
   "outputs": [
    {
     "name": "stdout",
     "output_type": "stream",
     "text": [
      "\n",
      "Cluster Ensemble:\n"
     ]
    },
    {
     "data": {
      "text/html": [
       "<div>\n",
       "<table border=\"1\" class=\"dataframe\">\n",
       "  <thead>\n",
       "    <tr style=\"text-align: right;\">\n",
       "      <th></th>\n",
       "      <th>z</th>\n",
       "    </tr>\n",
       "  </thead>\n",
       "  <tbody>\n",
       "    <tr>\n",
       "      <th>0</th>\n",
       "      <td>0.1</td>\n",
       "    </tr>\n",
       "    <tr>\n",
       "      <th>1</th>\n",
       "      <td>0.2</td>\n",
       "    </tr>\n",
       "    <tr>\n",
       "      <th>2</th>\n",
       "      <td>0.3</td>\n",
       "    </tr>\n",
       "  </tbody>\n",
       "</table>\n",
       "</div>"
      ],
      "text/plain": [
       "     z\n",
       "0  0.1\n",
       "1  0.2\n",
       "2  0.3"
      ]
     },
     "metadata": {},
     "output_type": "display_data"
    },
    {
     "name": "stdout",
     "output_type": "stream",
     "text": [
      "\n",
      "Mass-Richness Power Law: M200 = norm * (N200 / 20) ^ slope\n",
      "   norm: 2.7e+13 solMass\n",
      "   slope: 1.4\n"
     ]
    }
   ],
   "source": [
    "c.show()"
   ]
  },
  {
   "cell_type": "markdown",
   "metadata": {},
   "source": [
    "### Add richness values to the dataframe\n",
    "This step will also generate $M_{200}$, $r_{200}$, $c_{200}$, scale radius $r_s$, and other parameters, assuming the scaling relation given below."
   ]
  },
  {
   "cell_type": "code",
   "execution_count": 5,
   "metadata": {
    "collapsed": false
   },
   "outputs": [
    {
     "name": "stdout",
     "output_type": "stream",
     "text": [
      "\n",
      "Cluster Ensemble:\n"
     ]
    },
    {
     "data": {
      "text/html": [
       "<div>\n",
       "<table border=\"1\" class=\"dataframe\">\n",
       "  <thead>\n",
       "    <tr style=\"text-align: right;\">\n",
       "      <th></th>\n",
       "      <th>z</th>\n",
       "      <th>n200</th>\n",
       "      <th>m200</th>\n",
       "      <th>r200</th>\n",
       "      <th>c200</th>\n",
       "      <th>delta_c</th>\n",
       "      <th>rs</th>\n",
       "    </tr>\n",
       "  </thead>\n",
       "  <tbody>\n",
       "    <tr>\n",
       "      <th>0</th>\n",
       "      <td>0.1</td>\n",
       "      <td>20</td>\n",
       "      <td>2.700000e+13</td>\n",
       "      <td>0.612222</td>\n",
       "      <td>5.821359</td>\n",
       "      <td>12329.828385</td>\n",
       "      <td>0.105168</td>\n",
       "    </tr>\n",
       "    <tr>\n",
       "      <th>1</th>\n",
       "      <td>0.2</td>\n",
       "      <td>20</td>\n",
       "      <td>2.700000e+13</td>\n",
       "      <td>0.591082</td>\n",
       "      <td>5.627032</td>\n",
       "      <td>11398.735247</td>\n",
       "      <td>0.105043</td>\n",
       "    </tr>\n",
       "    <tr>\n",
       "      <th>2</th>\n",
       "      <td>0.3</td>\n",
       "      <td>20</td>\n",
       "      <td>2.700000e+13</td>\n",
       "      <td>0.569474</td>\n",
       "      <td>5.426060</td>\n",
       "      <td>10482.820471</td>\n",
       "      <td>0.104952</td>\n",
       "    </tr>\n",
       "  </tbody>\n",
       "</table>\n",
       "</div>"
      ],
      "text/plain": [
       "     z  n200          m200      r200      c200       delta_c        rs\n",
       "0  0.1    20  2.700000e+13  0.612222  5.821359  12329.828385  0.105168\n",
       "1  0.2    20  2.700000e+13  0.591082  5.627032  11398.735247  0.105043\n",
       "2  0.3    20  2.700000e+13  0.569474  5.426060  10482.820471  0.104952"
      ]
     },
     "metadata": {},
     "output_type": "display_data"
    },
    {
     "name": "stdout",
     "output_type": "stream",
     "text": [
      "\n",
      "Mass-Richness Power Law: M200 = norm * (N200 / 20) ^ slope\n",
      "   norm: 2.7e+13 solMass\n",
      "   slope: 1.4\n"
     ]
    }
   ],
   "source": [
    "n200 = np.ones(3)*20.\n",
    "c.n200 = n200\n",
    "c.show()"
   ]
  },
  {
   "cell_type": "markdown",
   "metadata": {},
   "source": [
    "### Access any column of the dataframe as an array\n",
    "Notice that [astropy units](http://docs.astropy.org/en/stable/units/) are present for the appropriate columns."
   ]
  },
  {
   "cell_type": "code",
   "execution_count": 6,
   "metadata": {
    "collapsed": false
   },
   "outputs": [
    {
     "name": "stdout",
     "output_type": "stream",
     "text": [
      "z: \t [ 0.1  0.2  0.3]\n",
      "n200: \t [ 20.  20.  20.]\n",
      "r200: \t [ 0.61222163  0.59108187  0.56947428] Mpc\n",
      "m200: \t [  2.70000000e+13   2.70000000e+13   2.70000000e+13] solMass\n",
      "c200: \t [ 5.82135877  5.62703234  5.42605953]\n",
      "rs: \t [ 0.10516817  0.10504327  0.10495172] Mpc\n"
     ]
    }
   ],
   "source": [
    "print('z: \\t', c.z)\n",
    "print('n200: \\t', c.n200)\n",
    "print('r200: \\t', c.r200)\n",
    "print('m200: \\t', c.m200)\n",
    "print('c200: \\t', c.c200)\n",
    "print('rs: \\t', c.rs)"
   ]
  },
  {
   "cell_type": "markdown",
   "metadata": {},
   "source": [
    "### If you don't want units, you can get just the values"
   ]
  },
  {
   "cell_type": "code",
   "execution_count": 7,
   "metadata": {
    "collapsed": false
   },
   "outputs": [
    {
     "data": {
      "text/plain": [
       "array([ 0.61222163,  0.59108187,  0.56947428])"
      ]
     },
     "execution_count": 7,
     "metadata": {},
     "output_type": "execute_result"
    }
   ],
   "source": [
    "c.r200.value"
   ]
  },
  {
   "cell_type": "markdown",
   "metadata": {},
   "source": [
    "### Or access the Pandas DataFrame directly"
   ]
  },
  {
   "cell_type": "code",
   "execution_count": 8,
   "metadata": {
    "collapsed": false
   },
   "outputs": [
    {
     "data": {
      "text/html": [
       "<div>\n",
       "<table border=\"1\" class=\"dataframe\">\n",
       "  <thead>\n",
       "    <tr style=\"text-align: right;\">\n",
       "      <th></th>\n",
       "      <th>z</th>\n",
       "      <th>n200</th>\n",
       "      <th>m200</th>\n",
       "      <th>r200</th>\n",
       "      <th>c200</th>\n",
       "      <th>delta_c</th>\n",
       "      <th>rs</th>\n",
       "    </tr>\n",
       "  </thead>\n",
       "  <tbody>\n",
       "    <tr>\n",
       "      <th>0</th>\n",
       "      <td>0.1</td>\n",
       "      <td>20</td>\n",
       "      <td>2.700000e+13</td>\n",
       "      <td>0.612222</td>\n",
       "      <td>5.821359</td>\n",
       "      <td>12329.828385</td>\n",
       "      <td>0.105168</td>\n",
       "    </tr>\n",
       "    <tr>\n",
       "      <th>1</th>\n",
       "      <td>0.2</td>\n",
       "      <td>20</td>\n",
       "      <td>2.700000e+13</td>\n",
       "      <td>0.591082</td>\n",
       "      <td>5.627032</td>\n",
       "      <td>11398.735247</td>\n",
       "      <td>0.105043</td>\n",
       "    </tr>\n",
       "    <tr>\n",
       "      <th>2</th>\n",
       "      <td>0.3</td>\n",
       "      <td>20</td>\n",
       "      <td>2.700000e+13</td>\n",
       "      <td>0.569474</td>\n",
       "      <td>5.426060</td>\n",
       "      <td>10482.820471</td>\n",
       "      <td>0.104952</td>\n",
       "    </tr>\n",
       "  </tbody>\n",
       "</table>\n",
       "</div>"
      ],
      "text/plain": [
       "     z  n200          m200      r200      c200       delta_c        rs\n",
       "0  0.1    20  2.700000e+13  0.612222  5.821359  12329.828385  0.105168\n",
       "1  0.2    20  2.700000e+13  0.591082  5.627032  11398.735247  0.105043\n",
       "2  0.3    20  2.700000e+13  0.569474  5.426060  10482.820471  0.104952"
      ]
     },
     "execution_count": 8,
     "metadata": {},
     "output_type": "execute_result"
    }
   ],
   "source": [
    "c.dataframe"
   ]
  },
  {
   "cell_type": "markdown",
   "metadata": {},
   "source": [
    "### Change the redshifts\n",
    "These changes will propogate to all redshift-dependant cluster attributes."
   ]
  },
  {
   "cell_type": "code",
   "execution_count": 9,
   "metadata": {
    "collapsed": false
   },
   "outputs": [
    {
     "data": {
      "text/html": [
       "<div>\n",
       "<table border=\"1\" class=\"dataframe\">\n",
       "  <thead>\n",
       "    <tr style=\"text-align: right;\">\n",
       "      <th></th>\n",
       "      <th>z</th>\n",
       "      <th>n200</th>\n",
       "      <th>m200</th>\n",
       "      <th>r200</th>\n",
       "      <th>c200</th>\n",
       "      <th>delta_c</th>\n",
       "      <th>rs</th>\n",
       "    </tr>\n",
       "  </thead>\n",
       "  <tbody>\n",
       "    <tr>\n",
       "      <th>0</th>\n",
       "      <td>0.4</td>\n",
       "      <td>20</td>\n",
       "      <td>2.700000e+13</td>\n",
       "      <td>0.547827</td>\n",
       "      <td>5.229151</td>\n",
       "      <td>9630.870869</td>\n",
       "      <td>0.104764</td>\n",
       "    </tr>\n",
       "    <tr>\n",
       "      <th>1</th>\n",
       "      <td>0.5</td>\n",
       "      <td>20</td>\n",
       "      <td>2.700000e+13</td>\n",
       "      <td>0.526483</td>\n",
       "      <td>5.041283</td>\n",
       "      <td>8859.107775</td>\n",
       "      <td>0.104434</td>\n",
       "    </tr>\n",
       "    <tr>\n",
       "      <th>2</th>\n",
       "      <td>0.6</td>\n",
       "      <td>20</td>\n",
       "      <td>2.700000e+13</td>\n",
       "      <td>0.505701</td>\n",
       "      <td>4.864887</td>\n",
       "      <td>8170.244874</td>\n",
       "      <td>0.103949</td>\n",
       "    </tr>\n",
       "  </tbody>\n",
       "</table>\n",
       "</div>"
      ],
      "text/plain": [
       "     z  n200          m200      r200      c200      delta_c        rs\n",
       "0  0.4    20  2.700000e+13  0.547827  5.229151  9630.870869  0.104764\n",
       "1  0.5    20  2.700000e+13  0.526483  5.041283  8859.107775  0.104434\n",
       "2  0.6    20  2.700000e+13  0.505701  4.864887  8170.244874  0.103949"
      ]
     },
     "execution_count": 9,
     "metadata": {},
     "output_type": "execute_result"
    }
   ],
   "source": [
    "c.z = np.array([0.4,0.5,0.6])\n",
    "c.dataframe"
   ]
  },
  {
   "cell_type": "markdown",
   "metadata": {},
   "source": [
    "### Change the mass or richness values\n",
    "Changing mass will affect richness and vice-versa, through the mass-richness scaling relation. These changes will propogate to all mass-dependant cluster attributes, as appropriate. "
   ]
  },
  {
   "cell_type": "code",
   "execution_count": 10,
   "metadata": {
    "collapsed": false
   },
   "outputs": [
    {
     "name": "stdout",
     "output_type": "stream",
     "text": [
      "\n",
      "Cluster Ensemble:\n"
     ]
    },
    {
     "data": {
      "text/html": [
       "<div>\n",
       "<table border=\"1\" class=\"dataframe\">\n",
       "  <thead>\n",
       "    <tr style=\"text-align: right;\">\n",
       "      <th></th>\n",
       "      <th>z</th>\n",
       "      <th>n200</th>\n",
       "      <th>m200</th>\n",
       "      <th>r200</th>\n",
       "      <th>c200</th>\n",
       "      <th>delta_c</th>\n",
       "      <th>rs</th>\n",
       "    </tr>\n",
       "  </thead>\n",
       "  <tbody>\n",
       "    <tr>\n",
       "      <th>0</th>\n",
       "      <td>0.4</td>\n",
       "      <td>21.563235</td>\n",
       "      <td>3.000000e+13</td>\n",
       "      <td>0.567408</td>\n",
       "      <td>5.179473</td>\n",
       "      <td>9422.926285</td>\n",
       "      <td>0.109549</td>\n",
       "    </tr>\n",
       "    <tr>\n",
       "      <th>1</th>\n",
       "      <td>0.5</td>\n",
       "      <td>83.602673</td>\n",
       "      <td>2.000000e+14</td>\n",
       "      <td>1.026296</td>\n",
       "      <td>4.226788</td>\n",
       "      <td>5956.926025</td>\n",
       "      <td>0.242808</td>\n",
       "    </tr>\n",
       "    <tr>\n",
       "      <th>2</th>\n",
       "      <td>0.6</td>\n",
       "      <td>263.927382</td>\n",
       "      <td>1.000000e+15</td>\n",
       "      <td>1.685668</td>\n",
       "      <td>3.573643</td>\n",
       "      <td>4117.417113</td>\n",
       "      <td>0.471695</td>\n",
       "    </tr>\n",
       "  </tbody>\n",
       "</table>\n",
       "</div>"
      ],
      "text/plain": [
       "     z        n200          m200      r200      c200      delta_c        rs\n",
       "0  0.4   21.563235  3.000000e+13  0.567408  5.179473  9422.926285  0.109549\n",
       "1  0.5   83.602673  2.000000e+14  1.026296  4.226788  5956.926025  0.242808\n",
       "2  0.6  263.927382  1.000000e+15  1.685668  3.573643  4117.417113  0.471695"
      ]
     },
     "metadata": {},
     "output_type": "display_data"
    },
    {
     "name": "stdout",
     "output_type": "stream",
     "text": [
      "\n",
      "Mass-Richness Power Law: M200 = norm * (N200 / 20) ^ slope\n",
      "   norm: 2.7e+13 solMass\n",
      "   slope: 1.4\n"
     ]
    }
   ],
   "source": [
    "c.m200 = [3e13,2e14,1e15]\n",
    "c.show()"
   ]
  },
  {
   "cell_type": "code",
   "execution_count": 11,
   "metadata": {
    "collapsed": false
   },
   "outputs": [
    {
     "name": "stdout",
     "output_type": "stream",
     "text": [
      "\n",
      "Cluster Ensemble:\n"
     ]
    },
    {
     "data": {
      "text/html": [
       "<div>\n",
       "<table border=\"1\" class=\"dataframe\">\n",
       "  <thead>\n",
       "    <tr style=\"text-align: right;\">\n",
       "      <th></th>\n",
       "      <th>z</th>\n",
       "      <th>n200</th>\n",
       "      <th>m200</th>\n",
       "      <th>r200</th>\n",
       "      <th>c200</th>\n",
       "      <th>delta_c</th>\n",
       "      <th>rs</th>\n",
       "    </tr>\n",
       "  </thead>\n",
       "  <tbody>\n",
       "    <tr>\n",
       "      <th>0</th>\n",
       "      <td>0.4</td>\n",
       "      <td>20</td>\n",
       "      <td>2.700000e+13</td>\n",
       "      <td>0.547827</td>\n",
       "      <td>5.229151</td>\n",
       "      <td>9630.870869</td>\n",
       "      <td>0.104764</td>\n",
       "    </tr>\n",
       "    <tr>\n",
       "      <th>1</th>\n",
       "      <td>0.5</td>\n",
       "      <td>30</td>\n",
       "      <td>4.763120e+13</td>\n",
       "      <td>0.636151</td>\n",
       "      <td>4.795641</td>\n",
       "      <td>7909.142281</td>\n",
       "      <td>0.132652</td>\n",
       "    </tr>\n",
       "    <tr>\n",
       "      <th>2</th>\n",
       "      <td>0.6</td>\n",
       "      <td>40</td>\n",
       "      <td>7.125343e+13</td>\n",
       "      <td>0.698834</td>\n",
       "      <td>4.477974</td>\n",
       "      <td>6777.240275</td>\n",
       "      <td>0.156060</td>\n",
       "    </tr>\n",
       "  </tbody>\n",
       "</table>\n",
       "</div>"
      ],
      "text/plain": [
       "     z  n200          m200      r200      c200      delta_c        rs\n",
       "0  0.4    20  2.700000e+13  0.547827  5.229151  9630.870869  0.104764\n",
       "1  0.5    30  4.763120e+13  0.636151  4.795641  7909.142281  0.132652\n",
       "2  0.6    40  7.125343e+13  0.698834  4.477974  6777.240275  0.156060"
      ]
     },
     "metadata": {},
     "output_type": "display_data"
    },
    {
     "name": "stdout",
     "output_type": "stream",
     "text": [
      "\n",
      "Mass-Richness Power Law: M200 = norm * (N200 / 20) ^ slope\n",
      "   norm: 2.7e+13 solMass\n",
      "   slope: 1.4\n"
     ]
    }
   ],
   "source": [
    "c.n200 = [20,30,40]\n",
    "c.show()"
   ]
  },
  {
   "cell_type": "markdown",
   "metadata": {},
   "source": [
    "### Change the parameters in the mass-richness relation\n",
    "The mass-richness slope and normalization can both be changed. The new parameters will be applied to the current n200, and will propagate to mass and other dependant quantities."
   ]
  },
  {
   "cell_type": "code",
   "execution_count": 12,
   "metadata": {
    "collapsed": false
   },
   "outputs": [
    {
     "name": "stdout",
     "output_type": "stream",
     "text": [
      "\n",
      "Cluster Ensemble:\n"
     ]
    },
    {
     "data": {
      "text/html": [
       "<div>\n",
       "<table border=\"1\" class=\"dataframe\">\n",
       "  <thead>\n",
       "    <tr style=\"text-align: right;\">\n",
       "      <th></th>\n",
       "      <th>z</th>\n",
       "      <th>n200</th>\n",
       "      <th>m200</th>\n",
       "      <th>r200</th>\n",
       "      <th>c200</th>\n",
       "      <th>delta_c</th>\n",
       "      <th>rs</th>\n",
       "    </tr>\n",
       "  </thead>\n",
       "  <tbody>\n",
       "    <tr>\n",
       "      <th>0</th>\n",
       "      <td>0.4</td>\n",
       "      <td>20</td>\n",
       "      <td>2.700000e+13</td>\n",
       "      <td>0.547827</td>\n",
       "      <td>5.229151</td>\n",
       "      <td>9630.870869</td>\n",
       "      <td>0.104764</td>\n",
       "    </tr>\n",
       "    <tr>\n",
       "      <th>1</th>\n",
       "      <td>0.5</td>\n",
       "      <td>30</td>\n",
       "      <td>4.960217e+13</td>\n",
       "      <td>0.644807</td>\n",
       "      <td>4.778560</td>\n",
       "      <td>7845.536637</td>\n",
       "      <td>0.134938</td>\n",
       "    </tr>\n",
       "    <tr>\n",
       "      <th>2</th>\n",
       "      <td>0.6</td>\n",
       "      <td>40</td>\n",
       "      <td>7.636753e+13</td>\n",
       "      <td>0.715169</td>\n",
       "      <td>4.451545</td>\n",
       "      <td>6687.866844</td>\n",
       "      <td>0.160656</td>\n",
       "    </tr>\n",
       "  </tbody>\n",
       "</table>\n",
       "</div>"
      ],
      "text/plain": [
       "     z  n200          m200      r200      c200      delta_c        rs\n",
       "0  0.4    20  2.700000e+13  0.547827  5.229151  9630.870869  0.104764\n",
       "1  0.5    30  4.960217e+13  0.644807  4.778560  7845.536637  0.134938\n",
       "2  0.6    40  7.636753e+13  0.715169  4.451545  6687.866844  0.160656"
      ]
     },
     "metadata": {},
     "output_type": "display_data"
    },
    {
     "name": "stdout",
     "output_type": "stream",
     "text": [
      "\n",
      "Mass-Richness Power Law: M200 = norm * (N200 / 20) ^ slope\n",
      "   norm: 2.7e+13 solMass\n",
      "   slope: 1.5\n"
     ]
    }
   ],
   "source": [
    "c.massrich_slope = 1.5\n",
    "c.show()"
   ]
  },
  {
   "cell_type": "markdown",
   "metadata": {},
   "source": [
    "### Show basic table\n",
    "Perhaps we don't want the fancy pandas formatting on our table, or maybe we're not working in the Jupyter notebook."
   ]
  },
  {
   "cell_type": "code",
   "execution_count": 13,
   "metadata": {
    "collapsed": false
   },
   "outputs": [
    {
     "name": "stdout",
     "output_type": "stream",
     "text": [
      "\n",
      "Cluster Ensemble:\n",
      "     z  n200          m200      r200      c200      delta_c        rs\n",
      "0  0.4    20  2.700000e+13  0.547827  5.229151  9630.870869  0.104764\n",
      "1  0.5    30  4.960217e+13  0.644807  4.778560  7845.536637  0.134938\n",
      "2  0.6    40  7.636753e+13  0.715169  4.451545  6687.866844  0.160656\n",
      "\n",
      "Mass-Richness Power Law: M200 = norm * (N200 / 20) ^ slope\n",
      "   norm: 2.7e+13 solMass\n",
      "   slope: 1.5\n"
     ]
    }
   ],
   "source": [
    "c.show(notebook = False)"
   ]
  },
  {
   "cell_type": "markdown",
   "metadata": {},
   "source": [
    "## Calculate $\\Sigma(r)$ and $\\Delta\\Sigma(r)$ for NFW model\n",
    "First select the radial bins in units of Mpc."
   ]
  },
  {
   "cell_type": "code",
   "execution_count": 14,
   "metadata": {
    "collapsed": false
   },
   "outputs": [],
   "source": [
    "rmin, rmax = 0.1, 5. #Mpc\n",
    "nbins = 50\n",
    "rbins = np.logspace(np.log10(rmin), np.log10(rmax), num = nbins)\n",
    "#rbins"
   ]
  },
  {
   "cell_type": "code",
   "execution_count": 15,
   "metadata": {
    "collapsed": false
   },
   "outputs": [],
   "source": [
    "c.calc_nfw(rbins)\n",
    "\n",
    "sigma = c.sigma_nfw\n",
    "deltasigma = c.deltasigma_nfw"
   ]
  },
  {
   "cell_type": "code",
   "execution_count": 16,
   "metadata": {
    "collapsed": false
   },
   "outputs": [
    {
     "data": {
      "text/latex": [
       "$[[139.36788,~126.66303,~114.81548,~\\dots, 0.230053,~0.196671,~0.168096],~\n",
       " [219.22321,~200.90293,~183.63217,~\\dots, 0.446297,~0.381845,~0.326611],~\n",
       " [301.08201,~277.48675,~255.08265,~\\dots, 0.717916,~0.614658,~0.526081]] \\; \\mathrm{\\frac{M_{\\odot}}{pc^{2}}}$"
      ],
      "text/plain": [
       "<Quantity [[  1.39367876e+02,  1.26663035e+02,  1.14815477e+02,\n",
       "              1.03805742e+02,  9.36101700e+01,  8.42013230e+01,\n",
       "              7.55484460e+01,  6.76179810e+01,  6.03741370e+01,\n",
       "              5.37794370e+01,  4.77952470e+01,  4.23823420e+01,\n",
       "              3.75013710e+01,  3.31133390e+01,  2.91799890e+01,\n",
       "              2.56641680e+01,  2.25301110e+01,  1.97436760e+01,\n",
       "              1.72725260e+01,  1.50862520e+01,  1.31564500e+01,\n",
       "              1.14567540e+01,  9.96283900e+00,  8.65237900e+00,\n",
       "              7.50499500e+00,  6.50216600e+00,  5.62714400e+00,\n",
       "              4.86484000e+00,  4.20171900e+00,  3.62567700e+00,\n",
       "              3.12593500e+00,  2.69291700e+00,  2.31814600e+00,\n",
       "              1.99413500e+00,  1.71429100e+00,  1.47282000e+00,\n",
       "              1.26464200e+00,  1.08531500e+00,  9.30957000e-01,\n",
       "              7.98187000e-01,  6.84060000e-01,  5.86018000e-01,\n",
       "              5.01843000e-01,  4.29612000e-01,  3.67661000e-01,\n",
       "              3.14550000e-01,  2.69038000e-01,  2.30053000e-01,\n",
       "              1.96671000e-01,  1.68096000e-01],\n",
       "           [  2.19223213e+02,  2.00902925e+02,  1.83632169e+02,\n",
       "              1.67405855e+02,  1.52213010e+02,  1.38036958e+02,\n",
       "              1.24855589e+02,  1.12641733e+02,  1.01363674e+02,\n",
       "              9.09856890e+01,  8.14686250e+01,  7.27705860e+01,\n",
       "              6.48475450e+01,  5.76540400e+01,  5.11437640e+01,\n",
       "              4.52701960e+01,  3.99871270e+01,  3.52491550e+01,\n",
       "              3.10121150e+01,  2.72334260e+01,  2.38723870e+01,\n",
       "              2.08903960e+01,  1.82511110e+01,  1.59205470e+01,\n",
       "              1.38671280e+01,  1.20616880e+01,  1.04774400e+01,\n",
       "              9.08990500e+00,  7.87682600e+00,  6.81805500e+00,\n",
       "              5.89543100e+00,  5.09265100e+00,  4.39513100e+00,\n",
       "              3.78986800e+00,  3.26531300e+00,  2.81123000e+00,\n",
       "              2.41858000e+00,  2.07939600e+00,  1.78667700e+00,\n",
       "              1.53428200e+00,  1.31683500e+00,  1.12964200e+00,\n",
       "              9.68609000e-01,  8.30172000e-01,  7.11236000e-01,\n",
       "              6.09112000e-01,  5.21471000e-01,  4.46297000e-01,\n",
       "              3.81845000e-01,  3.26611000e-01],\n",
       "           [  3.01082010e+02,  2.77486750e+02,  2.55082646e+02,\n",
       "              2.33878623e+02,  2.13876909e+02,  1.95072950e+02,\n",
       "              1.77455420e+02,  1.61006379e+02,  1.45701630e+02,\n",
       "              1.31511117e+02,  1.18399415e+02,  1.06326418e+02,\n",
       "              9.52479540e+01,  8.51165730e+01,  7.58822450e+01,\n",
       "              6.74931490e+01,  5.98963860e+01,  5.30386670e+01,\n",
       "              4.68669640e+01,  4.13290700e+01,  3.63741070e+01,\n",
       "              3.19529480e+01,  2.80185590e+01,  2.45262710e+01,\n",
       "              2.14339730e+01,  1.87022380e+01,  1.62943890e+01,\n",
       "              1.41765180e+01,  1.23174440e+01,  1.06886520e+01,\n",
       "              9.26418900e+00,  8.02054300e+00,  6.93650800e+00,\n",
       "              5.99302700e+00,  5.17304600e+00,  4.46135000e+00,\n",
       "              3.84441600e+00,  3.31025300e+00,  2.84826700e+00,\n",
       "              2.44911500e+00,  2.10458400e+00,  1.80746600e+00,\n",
       "              1.55145200e+00,  1.33102600e+00,  1.14138000e+00,\n",
       "              9.78327000e-01,  8.38226000e-01,  7.17916000e-01,\n",
       "              6.14658000e-01,  5.26081000e-01]] solMass / pc2>"
      ]
     },
     "execution_count": 16,
     "metadata": {},
     "output_type": "execute_result"
    }
   ],
   "source": [
    "sigma"
   ]
  },
  {
   "cell_type": "code",
   "execution_count": 17,
   "metadata": {
    "collapsed": false
   },
   "outputs": [
    {
     "data": {
      "image/png": "[encoded data removed]",
      "text/plain": [
       "<matplotlib.figure.Figure at 0x108bf25d0>"
      ]
     },
     "metadata": {},
     "output_type": "display_data"
    }
   ],
   "source": [
    "fig = plt.figure(figsize=(12,5))\n",
    "fig.suptitle('Centered NFW Cluster Profiles', size=30)\n",
    "\n",
    "first = fig.add_subplot(1,2,1)\n",
    "second = fig.add_subplot(1,2,2)\n",
    "\n",
    "for rich, profile in zip(c.n200,deltasigma):\n",
    "    first.plot(rbins, profile, label='$N_{200}=$ '+str(rich))\n",
    "first.set_xscale('log')\n",
    "first.set_xlabel('$r\\ [\\mathrm{Mpc}]$', fontsize=20)\n",
    "first.set_ylabel('$\\Delta\\Sigma(r)\\ [\\mathrm{M}_\\mathrm{sun}/\\mathrm{pc}^2]$', \n",
    "                 fontsize=20)\n",
    "first.set_xlim(rbins.min(), rbins.max())\n",
    "first.legend(fontsize=20)\n",
    "\n",
    "\n",
    "for rich, profile in zip(c.n200,sigma):\n",
    "    second.plot(rbins, profile, label='$N_{200}=$ '+str(rich))\n",
    "second.set_xscale('log')\n",
    "second.set_xlabel('$r\\ [\\mathrm{Mpc}]$', fontsize=20)\n",
    "second.set_ylabel('$\\Sigma(r)\\ [\\mathrm{M}_\\mathrm{sun}/\\mathrm{pc}^2]$', \n",
    "                 fontsize=20)\n",
    "second.set_xlim(rbins.min(), rbins.max())\n",
    "second.legend(fontsize=20)\n",
    "\n",
    "\n",
    "fig.tight_layout()\n",
    "plt.subplots_adjust(top=0.88)"
   ]
  },
  {
   "cell_type": "markdown",
   "metadata": {},
   "source": [
    "# Calculate Miscentered NFW Profiles\n",
    "\n",
    "When the true underlying dark matter distribution is offset from the assumed cluster \"center\" (such as a BCG or some other center proxy), the weak lensing profiles measured around the assumed centers will be different than for the perfectly centered case. One way to account for this is to describe the cluster centroid offsets as a Gaussian distribution around the true centers. We say the probability of an offset is given by\n",
    "\n",
    "$P(R_\\mathrm{off}) = \\frac{R_\\mathrm{off}}{\\sigma_\\mathrm{off}^2}e^{-\\frac{1}{2}\\left(\\frac{R_\\mathrm{off}}{\\sigma_\\mathrm{off}}\\right)^2}$,\n",
    "\n",
    "which is parameterized by the width of the 2D offset distribution $\\sigma_\\mathrm{off} = \\sqrt{\\sigma_x^2 + \\sigma_y^2}$. Then the measured surface mass density is given by \n",
    "\n",
    "$\\Sigma^\\mathrm{sm}(R) = \\int_0^\\infty \\Sigma(R | R_\\mathrm{off})\\  P(R_\\mathrm{off})\\ \\mathrm{d}R_\\mathrm{off}$,\n",
    "\n",
    "where\n",
    "\n",
    "$\\Sigma(R | R_\\mathrm{off}) = \\frac{1}{2\\pi} \\int_0^{2\\pi} \\Sigma(r')\\ \\mathrm{d}\\theta$, \n",
    "\n",
    "and\n",
    "\n",
    "$r' = \\sqrt{R^2 + R_\\mathrm{off}^2 - R R_\\mathrm{off} \\cos{\\theta}}$.\n",
    "\n",
    "More details on the cluster miscentering problem can be found in [Ford et al 2015](http://arxiv.org/abs/1409.3571), [George et al 2012](http://arxiv.org/abs/1205.4262), and [Johnston et al 2007](http://arxiv.org/abs/0709.1159).\n",
    "\n",
    "To calculate the miscentered profiles, simply create an array of offsets in units of Mpc, and pass it to the calc_nfw method:"
   ]
  },
  {
   "cell_type": "code",
   "execution_count": 18,
   "metadata": {
    "collapsed": false
   },
   "outputs": [],
   "source": [
    "offsets = np.array([0.1,0.1,0.1]) #same length as number of clusters\n",
    "\n",
    "c.calc_nfw(rbins, offsets=offsets)\n",
    "\n",
    "deltasigma_off = c.deltasigma_nfw\n",
    "sigma_off = c.sigma_nfw"
   ]
  },
  {
   "cell_type": "code",
   "execution_count": 19,
   "metadata": {
    "collapsed": false
   },
   "outputs": [
    {
     "data": {
      "image/png": "[encoded data removed]",
      "text/plain": [
       "<matplotlib.figure.Figure at 0x109a1ba10>"
      ]
     },
     "metadata": {},
     "output_type": "display_data"
    }
   ],
   "source": [
    "fig = plt.figure(figsize=(12,5))\n",
    "fig.suptitle('Miscentered NFW Cluster Profiles', size=30)\n",
    "\n",
    "first = fig.add_subplot(1,2,1)\n",
    "second = fig.add_subplot(1,2,2)\n",
    "\n",
    "for rich, profile in zip(c.n200,deltasigma_off):\n",
    "    first.plot(rbins, profile, label='$N_{200}=$ '+str(rich))\n",
    "first.set_xscale('log')\n",
    "first.set_xlabel('$r\\ [\\mathrm{Mpc}]$', fontsize=20)\n",
    "first.set_ylabel('$\\Delta\\Sigma^\\mathrm{sm}(r)\\ [\\mathrm{M}_\\mathrm{sun}/\\mathrm{pc}^2]$', fontsize=20)\n",
    "first.set_xlim(rbins.min(), rbins.max())\n",
    "first.legend(fontsize=20)\n",
    "\n",
    "\n",
    "for rich, profile in zip(c.n200,sigma_off):\n",
    "    second.plot(rbins, profile, label='$N_{200}=$ '+str(rich))\n",
    "second.set_xscale('log')\n",
    "second.set_xlabel('$r\\ [\\mathrm{Mpc}]$', fontsize=20)\n",
    "second.set_ylabel('$\\Sigma^\\mathrm{sm}(r)\\ [\\mathrm{M}_\\mathrm{sun}/\\mathrm{pc}^2]$', \n",
    "                 fontsize=20)\n",
    "second.set_xlim(rbins.min(), rbins.max())\n",
    "second.legend(fontsize=20)\n",
    "\n",
    "\n",
    "fig.tight_layout()\n",
    "plt.subplots_adjust(top=0.88)"
   ]
  },
  {
   "cell_type": "markdown",
   "metadata": {},
   "source": [
    "## NEW: a Python implentation of the NFW calculations \n",
    "Set the keyword parameter \"use_c = False\" to use Python only. Note that this method is significantly faster than the C code, for the perfectly centered case (because the C version suboptimally writes/reads to disc), but far slower for the miscentered case (which includes calculating a double integral). *Currently, the Python option calculates centered $\\Sigma(r)$ and $\\Delta\\Sigma(r)$ profiles, and the miscentered profile $\\Sigma^\\mathrm{sm}(r)$, but not yet $\\Delta\\Sigma^\\mathrm{sm}(r)$...*"
   ]
  },
  {
   "cell_type": "code",
   "execution_count": 20,
   "metadata": {
    "collapsed": false
   },
   "outputs": [],
   "source": [
    "c.calc_nfw(rbins, use_c = False)\n",
    "\n",
    "sigma_py = c.sigma_nfw\n",
    "dsigma_py = c.deltasigma_nfw"
   ]
  },
  {
   "cell_type": "code",
   "execution_count": 21,
   "metadata": {
    "collapsed": true
   },
   "outputs": [],
   "source": [
    "sigma_py = c.sigma_nfw\n",
    "dsigma_py = c.deltasigma_nfw"
   ]
  },
  {
   "cell_type": "code",
   "execution_count": 22,
   "metadata": {
    "collapsed": false
   },
   "outputs": [],
   "source": [
    "#check the results match\n",
    "np.testing.assert_allclose(sigma_py, sigma, rtol = 10**-4)\n",
    "np.testing.assert_allclose(dsigma_py, deltasigma, rtol = 10**-4)"
   ]
  },
  {
   "cell_type": "markdown",
   "metadata": {},
   "source": [
    "### Python Calculation of $\\Sigma^\\mathrm{sm}(r)$\n",
    "Even with dblquad and large epsabs, epsrel allowances, this is way slow."
   ]
  },
  {
   "cell_type": "code",
   "execution_count": 23,
   "metadata": {
    "collapsed": false
   },
   "outputs": [],
   "source": [
    "c.calc_nfw(rbins, offsets = offsets, use_c = False)\n",
    "\n",
    "sigma_off_py = c.sigma_nfw\n",
    "#deltasigma_off_py = c.deltasigma_nfw #not yet implemented"
   ]
  },
  {
   "cell_type": "code",
   "execution_count": 24,
   "metadata": {
    "collapsed": false
   },
   "outputs": [
    {
     "data": {
      "text/latex": [
       "$[[122.37402,~117.49854,~112.25497,~\\dots, 0.23021167,~0.19677659,~0.16816457],~\n",
       " [188.6683,~181.74093,~174.23788,~\\dots, 0.44659824,~0.38204647,~0.32674153],~\n",
       " [256.75013,~247.86355,~238.19918,~\\dots, 0.7183924,~0.61497615,~0.52628641]] \\; \\mathrm{\\frac{M_{\\odot}}{pc^{2}}}$"
      ],
      "text/plain": [
       "<Quantity [[  1.22374018e+02,  1.17498541e+02,  1.12254973e+02,\n",
       "              1.06489371e+02,  1.00279726e+02,  9.36544500e+01,\n",
       "              8.66925880e+01,  7.94855060e+01,  7.21706937e+01,\n",
       "              6.48788822e+01,  5.77705279e+01,  5.09919602e+01,\n",
       "              4.46682864e+01,  3.88932302e+01,  3.37187689e+01,\n",
       "              2.91552780e+01,  2.51764803e+01,  2.17308902e+01,\n",
       "              1.87580231e+01,  1.61976438e+01,  1.39882436e+01,\n",
       "              1.20791326e+01,  1.04282169e+01,  9.00003209e+00,\n",
       "              7.76440330e+00,  6.69547747e+00,  5.77099537e+00,\n",
       "              4.97172529e+00,  4.28101098e+00,  3.68440325e+00,\n",
       "              3.16935461e+00,  2.72496282e+00,  2.34175313e+00,\n",
       "              2.01149187e+00,  1.72702580e+00,  1.48214293e+00,\n",
       "              1.27145165e+00,  1.09027530e+00,  9.34560151e-01,\n",
       "              8.00794972e-01,  6.85940738e-01,  5.87369109e-01,\n",
       "              5.02808655e-01,  4.30297872e-01,  3.68144133e-01,\n",
       "              3.14887882e-01,  2.69271410e-01,  2.30211665e-01,\n",
       "              1.96776591e-01,  1.68164567e-01],\n",
       "           [  1.88668296e+02,  1.81740930e+02,  1.74237884e+02,\n",
       "              1.65973590e+02,  1.57038116e+02,  1.47467365e+02,\n",
       "              1.37362559e+02,  1.26845781e+02,  1.16100366e+02,\n",
       "              1.05308225e+02,  9.46920072e+01,  8.44614225e+01,\n",
       "              7.48022462e+01,  6.58612340e+01,  5.77308716e+01,\n",
       "              5.04472210e+01,  4.39946218e+01,  3.83194354e+01,\n",
       "              3.33506291e+01,  2.90124148e+01,  2.52239488e+01,\n",
       "              2.19155771e+01,  1.90273234e+01,  1.65071138e+01,\n",
       "              1.43094834e+01,  1.23945901e+01,  1.07274361e+01,\n",
       "              9.27723675e+00,  8.01689423e+00,  6.92255338e+00,\n",
       "              5.97321924e+00,  5.15042484e+00,  4.43793995e+00,\n",
       "              3.82151400e+00,  3.28864829e+00,  2.82839346e+00,\n",
       "              2.43116916e+00,  2.08860336e+00,  1.79338912e+00,\n",
       "              1.53915705e+00,  1.32036187e+00,  1.13218155e+00,\n",
       "              9.70427908e-01,  8.31467365e-01,  7.12150930e-01,\n",
       "              6.09752404e-01,  5.21913950e-01,  4.46598241e-01,\n",
       "              3.82046466e-01,  3.26741534e-01],\n",
       "           [  2.56750134e+02,  2.47863549e+02,  2.38199180e+02,\n",
       "              2.27540074e+02,  2.15985865e+02,  2.03577443e+02,\n",
       "              1.90434649e+02,  1.76706130e+02,  1.62616104e+02,\n",
       "              1.48392659e+02,  1.34315562e+02,  1.20653617e+02,\n",
       "              1.07650270e+02,  9.55040605e+01,  8.43487817e+01,\n",
       "              7.42489700e+01,  6.52039889e+01,  5.71634348e+01,\n",
       "              5.00513114e+01,  4.37814934e+01,  3.82584346e+01,\n",
       "              3.33971916e+01,  2.91226595e+01,  2.53681266e+01,\n",
       "              2.20741723e+01,  1.91877917e+01,  1.66616768e+01,\n",
       "              1.44536096e+01,  1.25259387e+01,  1.08451193e+01,\n",
       "              9.38130352e+00,  8.10797205e+00,  7.00160123e+00,\n",
       "              6.04135989e+00,  5.20883359e+00,  4.48777304e+00,\n",
       "              3.86386496e+00,  3.32452351e+00,  2.85870081e+00,\n",
       "              2.45671532e+00,  2.11009656e+00,  1.81144529e+00,\n",
       "              1.55430772e+00,  1.33306280e+00,  1.14282147e+00,\n",
       "              9.79336937e-01,  8.38924814e-01,  7.18392405e-01,\n",
       "              6.14976145e-01,  5.26286413e-01]] solMass / pc2>"
      ]
     },
     "execution_count": 24,
     "metadata": {},
     "output_type": "execute_result"
    }
   ],
   "source": [
    "sigma_off_py"
   ]
  },
  {
   "cell_type": "code",
   "execution_count": 25,
   "metadata": {
    "collapsed": false
   },
   "outputs": [
    {
     "data": {
      "text/latex": [
       "$[[122.73296,~117.57262,~112.3995,~\\dots, 0.230212,~0.196777,~0.168165],~\n",
       " [189.08495,~181.82851,~174.40874,~\\dots, 0.446598,~0.382046,~0.326742],~\n",
       " [257.22128,~247.96386,~238.39488,~\\dots, 0.718392,~0.614976,~0.526286]] \\; \\mathrm{\\frac{M_{\\odot}}{pc^{2}}}$"
      ],
      "text/plain": [
       "<Quantity [[  1.22732961e+02,  1.17572618e+02,  1.12399498e+02,\n",
       "              1.06567944e+02,  1.00366208e+02,  9.37419820e+01,\n",
       "              8.67923190e+01,  7.95696890e+01,  7.22603480e+01,\n",
       "              6.49443250e+01,  5.78179960e+01,  5.10279740e+01,\n",
       "              4.46940890e+01,  3.89108810e+01,  3.37289760e+01,\n",
       "              2.91605910e+01,  2.51793670e+01,  2.17318190e+01,\n",
       "              1.87580240e+01,  1.61976430e+01,  1.39882430e+01,\n",
       "              1.20791320e+01,  1.04282170e+01,  9.00003200e+00,\n",
       "              7.76440300e+00,  6.69547700e+00,  5.77099500e+00,\n",
       "              4.97172500e+00,  4.28101100e+00,  3.68440300e+00,\n",
       "              3.16935400e+00,  2.72496300e+00,  2.34175300e+00,\n",
       "              2.01149200e+00,  1.72702600e+00,  1.48214300e+00,\n",
       "              1.27145200e+00,  1.09027500e+00,  9.34560000e-01,\n",
       "              8.00795000e-01,  6.85941000e-01,  5.87369000e-01,\n",
       "              5.02809000e-01,  4.30298000e-01,  3.68144000e-01,\n",
       "              3.14888000e-01,  2.69271000e-01,  2.30212000e-01,\n",
       "              1.96777000e-01,  1.68165000e-01],\n",
       "           [  1.89084951e+02,  1.81828506e+02,  1.74408741e+02,\n",
       "              1.66066490e+02,  1.57140370e+02,  1.47570865e+02,\n",
       "              1.37480486e+02,  1.26945331e+02,  1.16206387e+02,\n",
       "              1.05385628e+02,  9.47481590e+01,  8.45040310e+01,\n",
       "              7.48327770e+01,  6.58821210e+01,  5.77429510e+01,\n",
       "              5.04535100e+01,  4.39980380e+01,  3.83205340e+01,\n",
       "              3.33506280e+01,  2.90124120e+01,  2.52239470e+01,\n",
       "              2.19155750e+01,  1.90273220e+01,  1.65071120e+01,\n",
       "              1.43094820e+01,  1.23945890e+01,  1.07274350e+01,\n",
       "              9.27723600e+00,  8.01689400e+00,  6.92255300e+00,\n",
       "              5.97321900e+00,  5.15042400e+00,  4.43793900e+00,\n",
       "              3.82151400e+00,  3.28864800e+00,  2.82839300e+00,\n",
       "              2.43116900e+00,  2.08860300e+00,  1.79338900e+00,\n",
       "              1.53915700e+00,  1.32036200e+00,  1.13218100e+00,\n",
       "              9.70428000e-01,  8.31467000e-01,  7.12151000e-01,\n",
       "              6.09752000e-01,  5.21914000e-01,  4.46598000e-01,\n",
       "              3.82046000e-01,  3.26742000e-01],\n",
       "           [  2.57221283e+02,  2.47963864e+02,  2.38394875e+02,\n",
       "              2.27646490e+02,  2.16102997e+02,  2.03696002e+02,\n",
       "              1.90569734e+02,  1.76820171e+02,  1.62737555e+02,\n",
       "              1.48481335e+02,  1.34379898e+02,  1.20702440e+02,\n",
       "              1.07685256e+02,  9.55279990e+01,  8.43626290e+01,\n",
       "              7.42561810e+01,  6.52079070e+01,  5.71646960e+01,\n",
       "              5.00513120e+01,  4.37814920e+01,  3.82584340e+01,\n",
       "              3.33971910e+01,  2.91226590e+01,  2.53681260e+01,\n",
       "              2.20741720e+01,  1.91877910e+01,  1.66616760e+01,\n",
       "              1.44536090e+01,  1.25259380e+01,  1.08451200e+01,\n",
       "              9.38130300e+00,  8.10797100e+00,  7.00160100e+00,\n",
       "              6.04136000e+00,  5.20883400e+00,  4.48777300e+00,\n",
       "              3.86386500e+00,  3.32452300e+00,  2.85870100e+00,\n",
       "              2.45671500e+00,  2.11009700e+00,  1.81144500e+00,\n",
       "              1.55430800e+00,  1.33306300e+00,  1.14282100e+00,\n",
       "              9.79337000e-01,  8.38925000e-01,  7.18392000e-01,\n",
       "              6.14976000e-01,  5.26286000e-01]] solMass / pc2>"
      ]
     },
     "execution_count": 25,
     "metadata": {},
     "output_type": "execute_result"
    }
   ],
   "source": [
    "sigma_off"
   ]
  },
  {
   "cell_type": "code",
   "execution_count": 26,
   "metadata": {
    "collapsed": false
   },
   "outputs": [],
   "source": [
    "#check the results match... \n",
    "np.testing.assert_allclose(sigma_off_py, sigma_off, rtol = 10**-2)\n",
    "\n",
    "#looks like 10**-2 is the level at which the offset profiles match"
   ]
  },
  {
   "cell_type": "markdown",
   "metadata": {},
   "source": [
    "### Timing Comparisons: Python vs C\n",
    "- For centered halos, Python implementation is about 30% faster than C.\n",
    "- For offset halos, need $\\Delta\\Sigma^\\mathrm{sm}(r)$ implemented in Python for full comparison... but just the $\\Sigma^\\mathrm{sm}(r)$ bit is about 3 times faster in C than in Python (for now)."
   ]
  },
  {
   "cell_type": "code",
   "execution_count": 27,
   "metadata": {
    "collapsed": false
   },
   "outputs": [
    {
     "name": "stdout",
     "output_type": "stream",
     "text": [
      "100 loops, best of 3: 15 ms per loop\n",
      "1000 loops, best of 3: 1.2 ms per loop\n",
      "1 loops, best of 3: 1.28 s per loop\n",
      "1 loops, best of 3: 4.08 s per loop\n"
     ]
    }
   ],
   "source": [
    "time_c = %timeit -o c.calc_nfw(rbins)\n",
    "time_py = %timeit -o c.calc_nfw(rbins, use_c = False)\n",
    "time_offset_c = %timeit -o c.calc_nfw(rbins, offsets=offsets)\n",
    "time_offset_py_justsigma = %timeit -o c.calc_nfw(rbins, \\\n",
    "    offsets = offsets, use_c = False)"
   ]
  },
  {
   "cell_type": "code",
   "execution_count": 28,
   "metadata": {
    "collapsed": false
   },
   "outputs": [
    {
     "data": {
      "text/plain": [
       "0.08016954168726777"
      ]
     },
     "execution_count": 28,
     "metadata": {},
     "output_type": "execute_result"
    }
   ],
   "source": [
    "#Centered: Python vs C \n",
    "time_py.best / time_c.best"
   ]
  },
  {
   "cell_type": "code",
   "execution_count": 29,
   "metadata": {
    "collapsed": false
   },
   "outputs": [
    {
     "data": {
      "text/plain": [
       "3.193659426506506"
      ]
     },
     "execution_count": 29,
     "metadata": {},
     "output_type": "execute_result"
    }
   ],
   "source": [
    "#Miscentered: Python vs C \n",
    "time_offset_py_justsigma.best / time_offset_c.best"
   ]
  },
  {
   "cell_type": "markdown",
   "metadata": {},
   "source": [
    "### To Do: \n",
    "- implement $\\Delta\\Sigma^\\mathrm{sm}(r)$ in Python\n",
    "- option to choose cofm relation & cosmology"
   ]
  }
 ],
 "metadata": {
  "kernelspec": {
   "display_name": "Python 2",
   "language": "python",
   "name": "python2"
  },
  "language_info": {
   "codemirror_mode": {
    "name": "ipython",
    "version": 2
   },
   "file_extension": ".py",
   "mimetype": "text/x-python",
   "name": "python",
   "nbconvert_exporter": "python",
   "pygments_lexer": "ipython2",
   "version": "2.7.11"
  }
 },
 "nbformat": 4,
 "nbformat_minor": 0
}
