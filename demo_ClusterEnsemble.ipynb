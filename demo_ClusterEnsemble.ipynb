{
 "cells": [
  {
   "cell_type": "markdown",
   "metadata": {},
   "source": [
    "# ClusterEnsemble demonstration\n",
    "Some example usage of how to build up a dataframe of galaxy cluster properties, including NFW halo profiles. Each cluster is treated as an individual, meaning we track its individual mass and redshift, and other properties. This is useful for fitting a stacked weak lensing profile, for example, where you want to avoid fitting a single average cluster mass."
   ]
  },
  {
   "cell_type": "code",
   "execution_count": null,
   "metadata": {
    "collapsed": false
   },
   "outputs": [],
   "source": [
    "from __future__ import absolute_import, division, print_function\n",
    "\n",
    "%matplotlib inline\n",
    "%load_ext autoreload\n",
    "%autoreload 2\n",
    "\n",
    "import numpy as np\n",
    "from astropy import units\n",
    "from matplotlib import pyplot as plt\n",
    "\n",
    "#import seaborn as sns; sns.set() "
   ]
  },
  {
   "cell_type": "code",
   "execution_count": null,
   "metadata": {
    "collapsed": false
   },
   "outputs": [],
   "source": [
    "from clusters import ClusterEnsemble"
   ]
  },
  {
   "cell_type": "markdown",
   "metadata": {},
   "source": [
    "### Create a ClusterEnsemble object by passing in a numpy array (or list) of redshifts"
   ]
  },
  {
   "cell_type": "code",
   "execution_count": null,
   "metadata": {
    "collapsed": false
   },
   "outputs": [],
   "source": [
    "z = np.array([0.1,0.2,0.3])\n",
    "c = ClusterEnsemble(z)\n",
    "c.describe"
   ]
  },
  {
   "cell_type": "markdown",
   "metadata": {},
   "source": [
    "### Display what we have so far\n",
    "Below the DataFrame (which so far only contains the cluster redshifts), we see the default assumptions for the power-law slope and normalization that will be used to convert richness $N_{200}$ to mass $M_{200}$. We'll see how to change those parameters below."
   ]
  },
  {
   "cell_type": "code",
   "execution_count": null,
   "metadata": {
    "collapsed": false
   },
   "outputs": [],
   "source": [
    "c.show()"
   ]
  },
  {
   "cell_type": "code",
   "execution_count": null,
   "metadata": {
    "collapsed": false
   },
   "outputs": [],
   "source": [
    "c.dataframe"
   ]
  },
  {
   "cell_type": "code",
   "execution_count": null,
   "metadata": {
    "collapsed": false
   },
   "outputs": [],
   "source": [
    "c.n200"
   ]
  },
  {
   "cell_type": "markdown",
   "metadata": {},
   "source": [
    "### Add richness values to the dataframe\n",
    "This step will also generate $M_{200}$, $r_{200}$, $c_{200}$, scale radius $r_s$, and other parameters, assuming the scaling relation given below."
   ]
  },
  {
   "cell_type": "code",
   "execution_count": null,
   "metadata": {
    "collapsed": false
   },
   "outputs": [],
   "source": [
    "n200 = np.ones(3)*20.\n",
    "c.n200 = n200\n",
    "c.show()"
   ]
  },
  {
   "cell_type": "markdown",
   "metadata": {},
   "source": [
    "### Access any column of the dataframe as an array\n",
    "Notice that [astropy units](http://docs.astropy.org/en/stable/units/) are present for the appropriate columns."
   ]
  },
  {
   "cell_type": "code",
   "execution_count": null,
   "metadata": {
    "collapsed": false
   },
   "outputs": [],
   "source": [
    "print('z: \\t', c.z)\n",
    "print('n200: \\t', c.n200)\n",
    "print('r200: \\t', c.r200)\n",
    "print('m200: \\t', c.m200)\n",
    "print('c200: \\t', c.c200)\n",
    "print('rs: \\t', c.rs)"
   ]
  },
  {
   "cell_type": "markdown",
   "metadata": {},
   "source": [
    "### If you don't want units, you can get just the values"
   ]
  },
  {
   "cell_type": "code",
   "execution_count": null,
   "metadata": {
    "collapsed": false
   },
   "outputs": [],
   "source": [
    "c.r200.value"
   ]
  },
  {
   "cell_type": "markdown",
   "metadata": {},
   "source": [
    "### Change the redshifts or richness values\n",
    "These changes will propogate to all redshift-dependant or richness-dependant cluster attributes, as appropriate."
   ]
  },
  {
   "cell_type": "code",
   "execution_count": null,
   "metadata": {
    "collapsed": false
   },
   "outputs": [],
   "source": [
    "c.z = np.array([0.4,0.5,0.6])\n",
    "c.show()"
   ]
  },
  {
   "cell_type": "code",
   "execution_count": null,
   "metadata": {
    "collapsed": false
   },
   "outputs": [],
   "source": [
    "c.n200 = [20,30,40]\n",
    "c.show()"
   ]
  },
  {
   "cell_type": "markdown",
   "metadata": {},
   "source": [
    "### Change the parameters in the mass-richness relation\n",
    "Either or both of the keyword parameters \"slope\" and \"norm\" can be passed to the update_massrichrelation() method."
   ]
  },
  {
   "cell_type": "code",
   "execution_count": null,
   "metadata": {
    "collapsed": false
   },
   "outputs": [],
   "source": [
    "c.update_massrichrelation(slope = 1.5)\n",
    "c.show()"
   ]
  },
  {
   "cell_type": "markdown",
   "metadata": {},
   "source": [
    "### Show basic table\n",
    "Perhaps we don't want the fancy pandas formatting on our table, or maybe we're not working in the Jupyter notebook."
   ]
  },
  {
   "cell_type": "code",
   "execution_count": null,
   "metadata": {
    "collapsed": false
   },
   "outputs": [],
   "source": [
    "c.show(notebook = False)"
   ]
  },
  {
   "cell_type": "markdown",
   "metadata": {},
   "source": [
    "## Calculate $\\Sigma(r)$ and $\\Delta\\Sigma(r)$ for NFW model\n",
    "First select the radial bins in units of Mpc."
   ]
  },
  {
   "cell_type": "code",
   "execution_count": null,
   "metadata": {
    "collapsed": false
   },
   "outputs": [],
   "source": [
    "rmin, rmax = 0.1, 5. #Mpc\n",
    "nbins = 50\n",
    "rbins = np.logspace(np.log10(rmin), np.log10(rmax), num = nbins)\n",
    "#rbins"
   ]
  },
  {
   "cell_type": "code",
   "execution_count": null,
   "metadata": {
    "collapsed": false
   },
   "outputs": [],
   "source": [
    "%timeit c.calc_nfw(rbins)\n",
    "sigma = c.sigma_nfw\n",
    "dsigma = c.deltasigma_nfw"
   ]
  },
  {
   "cell_type": "markdown",
   "metadata": {},
   "source": [
    "### There is now a Python implentation of the NFW calculations \n",
    "Set the keyword parameter \"use_c = False\" to use python only. Currently, the Python version is only implemented for perfectly centered halos. Note that this method is significantly faster than the C code, for the perfectly centered case (because it suboptimally writes/reads to disc in the latter case). Stand by for the miscentering offset timing comparison..."
   ]
  },
  {
   "cell_type": "code",
   "execution_count": null,
   "metadata": {
    "collapsed": false
   },
   "outputs": [],
   "source": [
    "%timeit c.calc_nfw(rbins, use_c = False)\n",
    "sigma_py = c.sigma_nfw\n",
    "dsigma_py = c.deltasigma_nfw"
   ]
  },
  {
   "cell_type": "code",
   "execution_count": null,
   "metadata": {
    "collapsed": false
   },
   "outputs": [],
   "source": [
    "#check the results match\n",
    "np.testing.assert_allclose(sigma_py, sigma, rtol = 10**-4)\n",
    "np.testing.assert_allclose(dsigma_py, dsigma, rtol = 10**-4)"
   ]
  },
  {
   "cell_type": "code",
   "execution_count": null,
   "metadata": {
    "collapsed": false
   },
   "outputs": [],
   "source": [
    "#sigma_py"
   ]
  },
  {
   "cell_type": "code",
   "execution_count": null,
   "metadata": {
    "collapsed": false
   },
   "outputs": [],
   "source": [
    "sigma"
   ]
  },
  {
   "cell_type": "code",
   "execution_count": null,
   "metadata": {
    "collapsed": false
   },
   "outputs": [],
   "source": [
    "for rich, profile in zip(c.n200,c.deltasigma_nfw):\n",
    "    plt.plot(rbins, profile, label='$N_{200}=$ '+str(rich))\n",
    "plt.xscale('log')\n",
    "plt.legend(fontsize=20)\n",
    "\n",
    "plt.xlim(rbins.min(), rbins.max())\n",
    "plt.xlabel('$r\\ [\\mathrm{Mpc}]$', fontsize=20)\n",
    "plt.ylabel('$\\Delta\\Sigma(r)\\ [\\mathrm{M}_\\mathrm{sun}/\\mathrm{pc}^2]$', fontsize=20)\n",
    "plt.title('(Centered) Differential Surface Mass Density', fontsize=20)"
   ]
  },
  {
   "cell_type": "code",
   "execution_count": null,
   "metadata": {
    "collapsed": false
   },
   "outputs": [],
   "source": [
    "for rich, profile in zip(c.n200,c.sigma_nfw):\n",
    "    plt.plot(rbins, profile, label='$N_{200}=$ '+str(rich))\n",
    "plt.xscale('log')\n",
    "plt.legend(fontsize=20)\n",
    "\n",
    "plt.xlim(rbins.min(), rbins.max())\n",
    "plt.xlabel('$r\\ [\\mathrm{Mpc}]$', fontsize=20)\n",
    "plt.ylabel('$\\Sigma(r)\\ [\\mathrm{M}_\\mathrm{sun}/\\mathrm{pc}^2]$', fontsize=20)\n",
    "plt.title('(Centered) Surface Mass Density', fontsize=20)"
   ]
  },
  {
   "cell_type": "markdown",
   "metadata": {},
   "source": [
    "# Calculate Miscentered NFW Profiles\n",
    "First select the offsets in units of Mpc. The offset values parameterize the width of the Gaussian distribution of offsets, and is $\\sigma_\\mathrm{off}$ in Equation 11 of [Ford et al 2015](http://arxiv.org/abs/1409.3571)."
   ]
  },
  {
   "cell_type": "code",
   "execution_count": null,
   "metadata": {
    "collapsed": false
   },
   "outputs": [],
   "source": [
    "offsets = np.array([0.09,0.09,0.09])\n",
    "c.calc_nfw(rbins, offsets=offsets)"
   ]
  },
  {
   "cell_type": "code",
   "execution_count": null,
   "metadata": {
    "collapsed": false
   },
   "outputs": [],
   "source": [
    "#print(c.deltasigma_offset)\n",
    "#print(c.sigma_offset)"
   ]
  },
  {
   "cell_type": "code",
   "execution_count": null,
   "metadata": {
    "collapsed": false
   },
   "outputs": [],
   "source": [
    "for rich, profile in zip(c.n200,c.deltasigma_offset):\n",
    "    plt.plot(rbins, profile, label='$N_{200}=$ '+str(rich))\n",
    "plt.xscale('log')\n",
    "plt.legend(fontsize=20)\n",
    "\n",
    "plt.xlim(rbins.min(), rbins.max())\n",
    "plt.xlabel('$r\\ [\\mathrm{Mpc}]$', fontsize=20)\n",
    "plt.ylabel('$\\Delta\\Sigma^\\mathrm{off}(r)\\ [\\mathrm{M}_\\mathrm{sun}/\\mathrm{pc}^2]$', \n",
    "           fontsize=20)\n",
    "plt.title('Miscentered Differential Surface Mass Density', fontsize=20)"
   ]
  },
  {
   "cell_type": "markdown",
   "metadata": {},
   "source": [
    "### To Do: \n",
    "- fix bug sometimes giving Inf in first bin of smoothed profiles\n",
    "- replace smd_nfw.c with cython version\n",
    "- write more tests\n",
    "- use decorators (@property, @setter, @deleter) instead of update_z(), for example\n",
    "- option to pass in a $M_{prelim}$ and $M_{200} = a \\times$ $M_{prelim}$ relation"
   ]
  },
  {
   "cell_type": "code",
   "execution_count": null,
   "metadata": {
    "collapsed": true
   },
   "outputs": [],
   "source": []
  }
 ],
 "metadata": {
  "kernelspec": {
   "display_name": "Python 2",
   "language": "python",
   "name": "python2"
  },
  "language_info": {
   "codemirror_mode": {
    "name": "ipython",
    "version": 2
   },
   "file_extension": ".py",
   "mimetype": "text/x-python",
   "name": "python",
   "nbconvert_exporter": "python",
   "pygments_lexer": "ipython2",
   "version": "2.7.11"
  }
 },
 "nbformat": 4,
 "nbformat_minor": 0
}
