{
 "cells": [
  {
   "cell_type": "markdown",
   "metadata": {},
   "source": [
    "# ClusterEnsemble demonstration\n",
    "Some example usage of how to build up a dataframe of galaxy cluster properties, including NFW halo profiles. Each cluster is treated as an individual, meaning we track its individual mass and redshift, and other properties. This is useful for fitting a stacked weak lensing profile, for example, where you want to avoid fitting a single average cluster mass."
   ]
  },
  {
   "cell_type": "code",
   "execution_count": 1,
   "metadata": {
    "collapsed": false
   },
   "outputs": [],
   "source": [
    "from __future__ import absolute_import, division, print_function\n",
    "\n",
    "%matplotlib inline\n",
    "%load_ext autoreload\n",
    "%autoreload 2\n",
    "\n",
    "import numpy as np\n",
    "from astropy import units\n",
    "from matplotlib import pyplot as plt\n",
    "\n",
    "#import seaborn as sns; sns.set() "
   ]
  },
  {
   "cell_type": "code",
   "execution_count": 2,
   "metadata": {
    "collapsed": false
   },
   "outputs": [],
   "source": [
    "from clusters import ClusterEnsemble"
   ]
  },
  {
   "cell_type": "markdown",
   "metadata": {},
   "source": [
    "### Create a ClusterEnsemble object by passing in a numpy array (or list) of redshifts"
   ]
  },
  {
   "cell_type": "code",
   "execution_count": 3,
   "metadata": {
    "collapsed": false
   },
   "outputs": [
    {
     "data": {
      "text/plain": [
       "'Ensemble of galaxy clusters and their properties.'"
      ]
     },
     "execution_count": 3,
     "metadata": {},
     "output_type": "execute_result"
    }
   ],
   "source": [
    "z = np.array([0.1,0.2,0.3])\n",
    "c = ClusterEnsemble(z)\n",
    "c.describe"
   ]
  },
  {
   "cell_type": "markdown",
   "metadata": {},
   "source": [
    "### Display what we have so far\n",
    "Below the DataFrame (which so far only contains the cluster redshifts), we see the default assumptions for the power-law slope and normalization that will be used to convert richness $N_{200}$ to mass $M_{200}$. We'll see how to change those parameters below."
   ]
  },
  {
   "cell_type": "code",
   "execution_count": 4,
   "metadata": {
    "collapsed": false
   },
   "outputs": [
    {
     "name": "stdout",
     "output_type": "stream",
     "text": [
      "\n",
      "Cluster Ensemble:\n"
     ]
    },
    {
     "data": {
      "text/html": [
       "<div>\n",
       "<table border=\"1\" class=\"dataframe\">\n",
       "  <thead>\n",
       "    <tr style=\"text-align: right;\">\n",
       "      <th></th>\n",
       "      <th>z</th>\n",
       "    </tr>\n",
       "  </thead>\n",
       "  <tbody>\n",
       "    <tr>\n",
       "      <th>0</th>\n",
       "      <td>0.1</td>\n",
       "    </tr>\n",
       "    <tr>\n",
       "      <th>1</th>\n",
       "      <td>0.2</td>\n",
       "    </tr>\n",
       "    <tr>\n",
       "      <th>2</th>\n",
       "      <td>0.3</td>\n",
       "    </tr>\n",
       "  </tbody>\n",
       "</table>\n",
       "</div>"
      ],
      "text/plain": [
       "     z\n",
       "0  0.1\n",
       "1  0.2\n",
       "2  0.3"
      ]
     },
     "metadata": {},
     "output_type": "display_data"
    },
    {
     "name": "stdout",
     "output_type": "stream",
     "text": [
      "\n",
      "Mass-Richness Power Law: M200 = norm * (N200 / 20) ^ slope\n",
      "   norm: 2.7e+13 solMass\n",
      "   slope: 1.4\n"
     ]
    }
   ],
   "source": [
    "c.show()"
   ]
  },
  {
   "cell_type": "markdown",
   "metadata": {},
   "source": [
    "### Add richness values to the dataframe\n",
    "This step will also generate $M_{200}$, $r_{200}$, $c_{200}$, scale radius $r_s$, and other parameters, assuming the scaling relation given below."
   ]
  },
  {
   "cell_type": "code",
   "execution_count": 5,
   "metadata": {
    "collapsed": false
   },
   "outputs": [
    {
     "name": "stdout",
     "output_type": "stream",
     "text": [
      "\n",
      "Cluster Ensemble:\n"
     ]
    },
    {
     "data": {
      "text/html": [
       "<div>\n",
       "<table border=\"1\" class=\"dataframe\">\n",
       "  <thead>\n",
       "    <tr style=\"text-align: right;\">\n",
       "      <th></th>\n",
       "      <th>z</th>\n",
       "      <th>n200</th>\n",
       "      <th>m200</th>\n",
       "      <th>r200</th>\n",
       "      <th>c200</th>\n",
       "      <th>delta_c</th>\n",
       "      <th>rs</th>\n",
       "    </tr>\n",
       "  </thead>\n",
       "  <tbody>\n",
       "    <tr>\n",
       "      <th>0</th>\n",
       "      <td>0.1</td>\n",
       "      <td>20</td>\n",
       "      <td>2.700000e+13</td>\n",
       "      <td>0.612222</td>\n",
       "      <td>5.821359</td>\n",
       "      <td>12329.828385</td>\n",
       "      <td>0.105168</td>\n",
       "    </tr>\n",
       "    <tr>\n",
       "      <th>1</th>\n",
       "      <td>0.2</td>\n",
       "      <td>20</td>\n",
       "      <td>2.700000e+13</td>\n",
       "      <td>0.591082</td>\n",
       "      <td>5.627032</td>\n",
       "      <td>11398.735247</td>\n",
       "      <td>0.105043</td>\n",
       "    </tr>\n",
       "    <tr>\n",
       "      <th>2</th>\n",
       "      <td>0.3</td>\n",
       "      <td>20</td>\n",
       "      <td>2.700000e+13</td>\n",
       "      <td>0.569474</td>\n",
       "      <td>5.426060</td>\n",
       "      <td>10482.820471</td>\n",
       "      <td>0.104952</td>\n",
       "    </tr>\n",
       "  </tbody>\n",
       "</table>\n",
       "</div>"
      ],
      "text/plain": [
       "     z  n200          m200      r200      c200       delta_c        rs\n",
       "0  0.1    20  2.700000e+13  0.612222  5.821359  12329.828385  0.105168\n",
       "1  0.2    20  2.700000e+13  0.591082  5.627032  11398.735247  0.105043\n",
       "2  0.3    20  2.700000e+13  0.569474  5.426060  10482.820471  0.104952"
      ]
     },
     "metadata": {},
     "output_type": "display_data"
    },
    {
     "name": "stdout",
     "output_type": "stream",
     "text": [
      "\n",
      "Mass-Richness Power Law: M200 = norm * (N200 / 20) ^ slope\n",
      "   norm: 2.7e+13 solMass\n",
      "   slope: 1.4\n"
     ]
    }
   ],
   "source": [
    "n200 = np.ones(3)*20.\n",
    "c.update_richness(n200)\n",
    "c.show()"
   ]
  },
  {
   "cell_type": "markdown",
   "metadata": {},
   "source": [
    "### Access any column of the dataframe as an array\n",
    "Notice that [astropy units](http://docs.astropy.org/en/stable/units/) are present for the appropriate columns."
   ]
  },
  {
   "cell_type": "code",
   "execution_count": 6,
   "metadata": {
    "collapsed": false
   },
   "outputs": [
    {
     "name": "stdout",
     "output_type": "stream",
     "text": [
      "z: \t [ 0.1  0.2  0.3]\n",
      "n200: \t [ 20.  20.  20.]\n",
      "r200: \t [ 0.61222163  0.59108187  0.56947428] Mpc\n",
      "m200: \t [  2.70000000e+13   2.70000000e+13   2.70000000e+13] solMass\n",
      "c200: \t [ 5.82135877  5.62703234  5.42605953]\n",
      "rs: \t [ 0.10516817  0.10504327  0.10495172] Mpc\n"
     ]
    }
   ],
   "source": [
    "print('z: \\t', c.z)\n",
    "print('n200: \\t', c.n200)\n",
    "print('r200: \\t', c.r200)\n",
    "print('m200: \\t', c.m200)\n",
    "print('c200: \\t', c.c200)\n",
    "print('rs: \\t', c.rs)"
   ]
  },
  {
   "cell_type": "markdown",
   "metadata": {},
   "source": [
    "### If you don't want units, you can get just the values"
   ]
  },
  {
   "cell_type": "code",
   "execution_count": 7,
   "metadata": {
    "collapsed": false
   },
   "outputs": [
    {
     "data": {
      "text/plain": [
       "array([ 0.61222163,  0.59108187,  0.56947428])"
      ]
     },
     "execution_count": 7,
     "metadata": {},
     "output_type": "execute_result"
    }
   ],
   "source": [
    "c.r200.value"
   ]
  },
  {
   "cell_type": "markdown",
   "metadata": {},
   "source": [
    "### Change the redshifts or richness values\n",
    "These changes will propogate to all redshift-dependant or richness-dependant cluster attributes, as appropriate."
   ]
  },
  {
   "cell_type": "code",
   "execution_count": 8,
   "metadata": {
    "collapsed": false
   },
   "outputs": [
    {
     "name": "stdout",
     "output_type": "stream",
     "text": [
      "\n",
      "Cluster Ensemble:\n"
     ]
    },
    {
     "data": {
      "text/html": [
       "<div>\n",
       "<table border=\"1\" class=\"dataframe\">\n",
       "  <thead>\n",
       "    <tr style=\"text-align: right;\">\n",
       "      <th></th>\n",
       "      <th>z</th>\n",
       "      <th>n200</th>\n",
       "      <th>m200</th>\n",
       "      <th>r200</th>\n",
       "      <th>c200</th>\n",
       "      <th>delta_c</th>\n",
       "      <th>rs</th>\n",
       "    </tr>\n",
       "  </thead>\n",
       "  <tbody>\n",
       "    <tr>\n",
       "      <th>0</th>\n",
       "      <td>0.4</td>\n",
       "      <td>20</td>\n",
       "      <td>2.700000e+13</td>\n",
       "      <td>0.547827</td>\n",
       "      <td>5.229151</td>\n",
       "      <td>9630.870869</td>\n",
       "      <td>0.104764</td>\n",
       "    </tr>\n",
       "    <tr>\n",
       "      <th>1</th>\n",
       "      <td>0.5</td>\n",
       "      <td>20</td>\n",
       "      <td>2.700000e+13</td>\n",
       "      <td>0.526483</td>\n",
       "      <td>5.041283</td>\n",
       "      <td>8859.107775</td>\n",
       "      <td>0.104434</td>\n",
       "    </tr>\n",
       "    <tr>\n",
       "      <th>2</th>\n",
       "      <td>0.6</td>\n",
       "      <td>20</td>\n",
       "      <td>2.700000e+13</td>\n",
       "      <td>0.505701</td>\n",
       "      <td>4.864887</td>\n",
       "      <td>8170.244874</td>\n",
       "      <td>0.103949</td>\n",
       "    </tr>\n",
       "  </tbody>\n",
       "</table>\n",
       "</div>"
      ],
      "text/plain": [
       "     z  n200          m200      r200      c200      delta_c        rs\n",
       "0  0.4    20  2.700000e+13  0.547827  5.229151  9630.870869  0.104764\n",
       "1  0.5    20  2.700000e+13  0.526483  5.041283  8859.107775  0.104434\n",
       "2  0.6    20  2.700000e+13  0.505701  4.864887  8170.244874  0.103949"
      ]
     },
     "metadata": {},
     "output_type": "display_data"
    },
    {
     "name": "stdout",
     "output_type": "stream",
     "text": [
      "\n",
      "Mass-Richness Power Law: M200 = norm * (N200 / 20) ^ slope\n",
      "   norm: 2.7e+13 solMass\n",
      "   slope: 1.4\n"
     ]
    }
   ],
   "source": [
    "c.update_z(np.array([0.4,0.5,0.6]))\n",
    "c.show()"
   ]
  },
  {
   "cell_type": "code",
   "execution_count": 9,
   "metadata": {
    "collapsed": false
   },
   "outputs": [
    {
     "name": "stdout",
     "output_type": "stream",
     "text": [
      "\n",
      "Cluster Ensemble:\n"
     ]
    },
    {
     "data": {
      "text/html": [
       "<div>\n",
       "<table border=\"1\" class=\"dataframe\">\n",
       "  <thead>\n",
       "    <tr style=\"text-align: right;\">\n",
       "      <th></th>\n",
       "      <th>z</th>\n",
       "      <th>n200</th>\n",
       "      <th>m200</th>\n",
       "      <th>r200</th>\n",
       "      <th>c200</th>\n",
       "      <th>delta_c</th>\n",
       "      <th>rs</th>\n",
       "    </tr>\n",
       "  </thead>\n",
       "  <tbody>\n",
       "    <tr>\n",
       "      <th>0</th>\n",
       "      <td>0.4</td>\n",
       "      <td>20</td>\n",
       "      <td>2.700000e+13</td>\n",
       "      <td>0.547827</td>\n",
       "      <td>5.229151</td>\n",
       "      <td>9630.870869</td>\n",
       "      <td>0.104764</td>\n",
       "    </tr>\n",
       "    <tr>\n",
       "      <th>1</th>\n",
       "      <td>0.5</td>\n",
       "      <td>30</td>\n",
       "      <td>4.763120e+13</td>\n",
       "      <td>0.636151</td>\n",
       "      <td>4.795641</td>\n",
       "      <td>7909.142281</td>\n",
       "      <td>0.132652</td>\n",
       "    </tr>\n",
       "    <tr>\n",
       "      <th>2</th>\n",
       "      <td>0.6</td>\n",
       "      <td>40</td>\n",
       "      <td>7.125343e+13</td>\n",
       "      <td>0.698834</td>\n",
       "      <td>4.477974</td>\n",
       "      <td>6777.240275</td>\n",
       "      <td>0.156060</td>\n",
       "    </tr>\n",
       "  </tbody>\n",
       "</table>\n",
       "</div>"
      ],
      "text/plain": [
       "     z  n200          m200      r200      c200      delta_c        rs\n",
       "0  0.4    20  2.700000e+13  0.547827  5.229151  9630.870869  0.104764\n",
       "1  0.5    30  4.763120e+13  0.636151  4.795641  7909.142281  0.132652\n",
       "2  0.6    40  7.125343e+13  0.698834  4.477974  6777.240275  0.156060"
      ]
     },
     "metadata": {},
     "output_type": "display_data"
    },
    {
     "name": "stdout",
     "output_type": "stream",
     "text": [
      "\n",
      "Mass-Richness Power Law: M200 = norm * (N200 / 20) ^ slope\n",
      "   norm: 2.7e+13 solMass\n",
      "   slope: 1.4\n"
     ]
    }
   ],
   "source": [
    "c.update_richness([20,30,40])\n",
    "c.show()"
   ]
  },
  {
   "cell_type": "markdown",
   "metadata": {},
   "source": [
    "### Change the parameters in the mass-richness relation\n",
    "Either or both of the keyword parameters \"slope\" and \"norm\" can be passed to the update_massrichrelation() method."
   ]
  },
  {
   "cell_type": "code",
   "execution_count": 10,
   "metadata": {
    "collapsed": false
   },
   "outputs": [
    {
     "name": "stdout",
     "output_type": "stream",
     "text": [
      "\n",
      "Cluster Ensemble:\n"
     ]
    },
    {
     "data": {
      "text/html": [
       "<div>\n",
       "<table border=\"1\" class=\"dataframe\">\n",
       "  <thead>\n",
       "    <tr style=\"text-align: right;\">\n",
       "      <th></th>\n",
       "      <th>z</th>\n",
       "      <th>n200</th>\n",
       "      <th>m200</th>\n",
       "      <th>r200</th>\n",
       "      <th>c200</th>\n",
       "      <th>delta_c</th>\n",
       "      <th>rs</th>\n",
       "    </tr>\n",
       "  </thead>\n",
       "  <tbody>\n",
       "    <tr>\n",
       "      <th>0</th>\n",
       "      <td>0.4</td>\n",
       "      <td>20</td>\n",
       "      <td>2.700000e+13</td>\n",
       "      <td>0.547827</td>\n",
       "      <td>5.229151</td>\n",
       "      <td>9630.870869</td>\n",
       "      <td>0.104764</td>\n",
       "    </tr>\n",
       "    <tr>\n",
       "      <th>1</th>\n",
       "      <td>0.5</td>\n",
       "      <td>30</td>\n",
       "      <td>4.960217e+13</td>\n",
       "      <td>0.644807</td>\n",
       "      <td>4.778560</td>\n",
       "      <td>7845.536637</td>\n",
       "      <td>0.134938</td>\n",
       "    </tr>\n",
       "    <tr>\n",
       "      <th>2</th>\n",
       "      <td>0.6</td>\n",
       "      <td>40</td>\n",
       "      <td>7.636753e+13</td>\n",
       "      <td>0.715169</td>\n",
       "      <td>4.451545</td>\n",
       "      <td>6687.866844</td>\n",
       "      <td>0.160656</td>\n",
       "    </tr>\n",
       "  </tbody>\n",
       "</table>\n",
       "</div>"
      ],
      "text/plain": [
       "     z  n200          m200      r200      c200      delta_c        rs\n",
       "0  0.4    20  2.700000e+13  0.547827  5.229151  9630.870869  0.104764\n",
       "1  0.5    30  4.960217e+13  0.644807  4.778560  7845.536637  0.134938\n",
       "2  0.6    40  7.636753e+13  0.715169  4.451545  6687.866844  0.160656"
      ]
     },
     "metadata": {},
     "output_type": "display_data"
    },
    {
     "name": "stdout",
     "output_type": "stream",
     "text": [
      "\n",
      "Mass-Richness Power Law: M200 = norm * (N200 / 20) ^ slope\n",
      "   norm: 2.7e+13 solMass\n",
      "   slope: 1.5\n"
     ]
    }
   ],
   "source": [
    "c.update_massrichrelation(slope = 1.5)\n",
    "c.show()"
   ]
  },
  {
   "cell_type": "markdown",
   "metadata": {},
   "source": [
    "### Show basic table\n",
    "Perhaps we don't want the fancy pandas formatting on our table, or maybe we're not working in the Jupyter notebook."
   ]
  },
  {
   "cell_type": "code",
   "execution_count": 11,
   "metadata": {
    "collapsed": false
   },
   "outputs": [
    {
     "name": "stdout",
     "output_type": "stream",
     "text": [
      "\n",
      "Cluster Ensemble:\n",
      "     z  n200          m200      r200      c200      delta_c        rs\n",
      "0  0.4    20  2.700000e+13  0.547827  5.229151  9630.870869  0.104764\n",
      "1  0.5    30  4.960217e+13  0.644807  4.778560  7845.536637  0.134938\n",
      "2  0.6    40  7.636753e+13  0.715169  4.451545  6687.866844  0.160656\n",
      "\n",
      "Mass-Richness Power Law: M200 = norm * (N200 / 20) ^ slope\n",
      "   norm: 2.7e+13 solMass\n",
      "   slope: 1.5\n"
     ]
    }
   ],
   "source": [
    "c.show(notebook = False)"
   ]
  },
  {
   "cell_type": "markdown",
   "metadata": {},
   "source": [
    "## Calculate $\\Sigma(r)$ and $\\Delta\\Sigma(r)$ for NFW model\n",
    "First select the radial bins in units of Mpc."
   ]
  },
  {
   "cell_type": "code",
   "execution_count": 12,
   "metadata": {
    "collapsed": false
   },
   "outputs": [],
   "source": [
    "rmin, rmax = 0.1, 5. #Mpc\n",
    "nbins = 50\n",
    "rbins = np.logspace(np.log10(rmin), np.log10(rmax), num = nbins)\n",
    "#rbins"
   ]
  },
  {
   "cell_type": "code",
   "execution_count": 13,
   "metadata": {
    "collapsed": false
   },
   "outputs": [
    {
     "name": "stdout",
     "output_type": "stream",
     "text": [
      "100 loops, best of 3: 14.8 ms per loop\n"
     ]
    }
   ],
   "source": [
    "%timeit c.calc_nfw(rbins)\n",
    "sigma = c.sigma_nfw\n",
    "dsigma = c.deltasigma_nfw"
   ]
  },
  {
   "cell_type": "markdown",
   "metadata": {},
   "source": [
    "### There is now a Python implentation of the NFW calculations \n",
    "Set the keyword parameter \"use_c = False\" to use python only. Currently, the Python version is only implemented for perfectly centered halos. Note that this method is significantly faster than the C code, for the perfectly centered case (because it suboptimally writes/reads to disc in the latter case). Stand by for the miscentering offset timing comparison..."
   ]
  },
  {
   "cell_type": "code",
   "execution_count": 14,
   "metadata": {
    "collapsed": false
   },
   "outputs": [
    {
     "name": "stdout",
     "output_type": "stream",
     "text": [
      "1000 loops, best of 3: 753 µs per loop\n"
     ]
    }
   ],
   "source": [
    "%timeit c.calc_nfw(rbins, use_c = False)\n",
    "sigma_py = c.sigma_nfw\n",
    "dsigma_py = c.deltasigma_nfw"
   ]
  },
  {
   "cell_type": "code",
   "execution_count": 15,
   "metadata": {
    "collapsed": false
   },
   "outputs": [],
   "source": [
    "#check the results match\n",
    "np.testing.assert_allclose(sigma_py, sigma, rtol = 10**-4)\n",
    "np.testing.assert_allclose(dsigma_py, dsigma, rtol = 10**-4)"
   ]
  },
  {
   "cell_type": "code",
   "execution_count": 16,
   "metadata": {
    "collapsed": false
   },
   "outputs": [],
   "source": [
    "#sigma_py"
   ]
  },
  {
   "cell_type": "code",
   "execution_count": 17,
   "metadata": {
    "collapsed": false
   },
   "outputs": [
    {
     "data": {
      "text/latex": [
       "$[[139.36788,~126.66303,~114.81548,~\\dots, 0.230053,~0.196671,~0.168096],~\n",
       " [219.22321,~200.90293,~183.63217,~\\dots, 0.446297,~0.381845,~0.326611],~\n",
       " [301.08201,~277.48675,~255.08265,~\\dots, 0.717916,~0.614658,~0.526081]] \\; \\mathrm{\\frac{M_{\\odot}}{pc^{2}}}$"
      ],
      "text/plain": [
       "<Quantity [[  1.39367876e+02,  1.26663035e+02,  1.14815477e+02,\n",
       "              1.03805742e+02,  9.36101700e+01,  8.42013230e+01,\n",
       "              7.55484460e+01,  6.76179810e+01,  6.03741370e+01,\n",
       "              5.37794370e+01,  4.77952470e+01,  4.23823420e+01,\n",
       "              3.75013710e+01,  3.31133390e+01,  2.91799890e+01,\n",
       "              2.56641680e+01,  2.25301110e+01,  1.97436760e+01,\n",
       "              1.72725260e+01,  1.50862520e+01,  1.31564500e+01,\n",
       "              1.14567540e+01,  9.96283900e+00,  8.65237900e+00,\n",
       "              7.50499500e+00,  6.50216600e+00,  5.62714400e+00,\n",
       "              4.86484000e+00,  4.20171900e+00,  3.62567700e+00,\n",
       "              3.12593500e+00,  2.69291700e+00,  2.31814600e+00,\n",
       "              1.99413500e+00,  1.71429100e+00,  1.47282000e+00,\n",
       "              1.26464200e+00,  1.08531500e+00,  9.30957000e-01,\n",
       "              7.98187000e-01,  6.84060000e-01,  5.86018000e-01,\n",
       "              5.01843000e-01,  4.29612000e-01,  3.67661000e-01,\n",
       "              3.14550000e-01,  2.69038000e-01,  2.30053000e-01,\n",
       "              1.96671000e-01,  1.68096000e-01],\n",
       "           [  2.19223213e+02,  2.00902925e+02,  1.83632169e+02,\n",
       "              1.67405855e+02,  1.52213010e+02,  1.38036958e+02,\n",
       "              1.24855589e+02,  1.12641733e+02,  1.01363674e+02,\n",
       "              9.09856890e+01,  8.14686250e+01,  7.27705860e+01,\n",
       "              6.48475450e+01,  5.76540400e+01,  5.11437640e+01,\n",
       "              4.52701960e+01,  3.99871270e+01,  3.52491550e+01,\n",
       "              3.10121150e+01,  2.72334260e+01,  2.38723870e+01,\n",
       "              2.08903960e+01,  1.82511110e+01,  1.59205470e+01,\n",
       "              1.38671280e+01,  1.20616880e+01,  1.04774400e+01,\n",
       "              9.08990500e+00,  7.87682600e+00,  6.81805500e+00,\n",
       "              5.89543100e+00,  5.09265100e+00,  4.39513100e+00,\n",
       "              3.78986800e+00,  3.26531300e+00,  2.81123000e+00,\n",
       "              2.41858000e+00,  2.07939600e+00,  1.78667700e+00,\n",
       "              1.53428200e+00,  1.31683500e+00,  1.12964200e+00,\n",
       "              9.68609000e-01,  8.30172000e-01,  7.11236000e-01,\n",
       "              6.09112000e-01,  5.21471000e-01,  4.46297000e-01,\n",
       "              3.81845000e-01,  3.26611000e-01],\n",
       "           [  3.01082010e+02,  2.77486750e+02,  2.55082646e+02,\n",
       "              2.33878623e+02,  2.13876909e+02,  1.95072950e+02,\n",
       "              1.77455420e+02,  1.61006379e+02,  1.45701630e+02,\n",
       "              1.31511117e+02,  1.18399415e+02,  1.06326418e+02,\n",
       "              9.52479540e+01,  8.51165730e+01,  7.58822450e+01,\n",
       "              6.74931490e+01,  5.98963860e+01,  5.30386670e+01,\n",
       "              4.68669640e+01,  4.13290700e+01,  3.63741070e+01,\n",
       "              3.19529480e+01,  2.80185590e+01,  2.45262710e+01,\n",
       "              2.14339730e+01,  1.87022380e+01,  1.62943890e+01,\n",
       "              1.41765180e+01,  1.23174440e+01,  1.06886520e+01,\n",
       "              9.26418900e+00,  8.02054300e+00,  6.93650800e+00,\n",
       "              5.99302700e+00,  5.17304600e+00,  4.46135000e+00,\n",
       "              3.84441600e+00,  3.31025300e+00,  2.84826700e+00,\n",
       "              2.44911500e+00,  2.10458400e+00,  1.80746600e+00,\n",
       "              1.55145200e+00,  1.33102600e+00,  1.14138000e+00,\n",
       "              9.78327000e-01,  8.38226000e-01,  7.17916000e-01,\n",
       "              6.14658000e-01,  5.26081000e-01]] solMass / pc2>"
      ]
     },
     "execution_count": 17,
     "metadata": {},
     "output_type": "execute_result"
    }
   ],
   "source": [
    "sigma"
   ]
  },
  {
   "cell_type": "code",
   "execution_count": 18,
   "metadata": {
    "collapsed": false
   },
   "outputs": [
    {
     "data": {
      "text/plain": [
       "<matplotlib.text.Text at 0x10947d290>"
      ]
     },
     "execution_count": 18,
     "metadata": {},
     "output_type": "execute_result"
    },
    {
     "data": {
      "image/png": "[encoded data removed]",
      "text/plain": [
       "<matplotlib.figure.Figure at 0x10941fa50>"
      ]
     },
     "metadata": {},
     "output_type": "display_data"
    }
   ],
   "source": [
    "for rich, profile in zip(c.n200,c.deltasigma_nfw):\n",
    "    plt.plot(rbins, profile, label='$N_{200}=$ '+str(rich))\n",
    "plt.xscale('log')\n",
    "plt.legend(fontsize=20)\n",
    "\n",
    "plt.xlim(rbins.min(), rbins.max())\n",
    "plt.xlabel('$r\\ [\\mathrm{Mpc}]$', fontsize=20)\n",
    "plt.ylabel('$\\Delta\\Sigma(r)\\ [\\mathrm{M}_\\mathrm{sun}/\\mathrm{pc}^2]$', fontsize=20)\n",
    "plt.title('(Centered) Differential Surface Mass Density', fontsize=20)"
   ]
  },
  {
   "cell_type": "code",
   "execution_count": 19,
   "metadata": {
    "collapsed": false
   },
   "outputs": [
    {
     "data": {
      "text/plain": [
       "<matplotlib.text.Text at 0x109614c10>"
      ]
     },
     "execution_count": 19,
     "metadata": {},
     "output_type": "execute_result"
    },
    {
     "data": {
      "image/png": "[encoded data removed]",
      "text/plain": [
       "<matplotlib.figure.Figure at 0x109590110>"
      ]
     },
     "metadata": {},
     "output_type": "display_data"
    }
   ],
   "source": [
    "for rich, profile in zip(c.n200,c.sigma_nfw):\n",
    "    plt.plot(rbins, profile, label='$N_{200}=$ '+str(rich))\n",
    "plt.xscale('log')\n",
    "plt.legend(fontsize=20)\n",
    "\n",
    "plt.xlim(rbins.min(), rbins.max())\n",
    "plt.xlabel('$r\\ [\\mathrm{Mpc}]$', fontsize=20)\n",
    "plt.ylabel('$\\Sigma(r)\\ [\\mathrm{M}_\\mathrm{sun}/\\mathrm{pc}^2]$', fontsize=20)\n",
    "plt.title('(Centered) Surface Mass Density', fontsize=20)"
   ]
  },
  {
   "cell_type": "markdown",
   "metadata": {},
   "source": [
    "# Calculate Miscentered NFW Profiles\n",
    "First select the offsets in units of Mpc. The offset values parameterize the width of the Gaussian distribution of offsets, and is $\\sigma_\\mathrm{off}$ in Equation 11 of [Ford et al 2015](http://arxiv.org/abs/1409.3571)."
   ]
  },
  {
   "cell_type": "code",
   "execution_count": 20,
   "metadata": {
    "collapsed": false
   },
   "outputs": [],
   "source": [
    "offsets = np.array([0.09,0.09,0.09])\n",
    "c.calc_nfw(rbins, offsets=offsets)"
   ]
  },
  {
   "cell_type": "code",
   "execution_count": 21,
   "metadata": {
    "collapsed": false
   },
   "outputs": [],
   "source": [
    "#print(c.deltasigma_offset)\n",
    "#print(c.sigma_offset)"
   ]
  },
  {
   "cell_type": "code",
   "execution_count": 22,
   "metadata": {
    "collapsed": false
   },
   "outputs": [
    {
     "data": {
      "text/plain": [
       "<matplotlib.text.Text at 0x109536290>"
      ]
     },
     "execution_count": 22,
     "metadata": {},
     "output_type": "execute_result"
    },
    {
     "data": {
      "image/png": "[encoded data removed]",
      "text/plain": [
       "<matplotlib.figure.Figure at 0x1098ea4d0>"
      ]
     },
     "metadata": {},
     "output_type": "display_data"
    }
   ],
   "source": [
    "for rich, profile in zip(c.n200,c.deltasigma_offset):\n",
    "    plt.plot(rbins, profile, label='$N_{200}=$ '+str(rich))\n",
    "plt.xscale('log')\n",
    "plt.legend(fontsize=20)\n",
    "\n",
    "plt.xlim(rbins.min(), rbins.max())\n",
    "plt.xlabel('$r\\ [\\mathrm{Mpc}]$', fontsize=20)\n",
    "plt.ylabel('$\\Delta\\Sigma^\\mathrm{off}(r)\\ [\\mathrm{M}_\\mathrm{sun}/\\mathrm{pc}^2]$', \n",
    "           fontsize=20)\n",
    "plt.title('Miscentered Differential Surface Mass Density', fontsize=20)"
   ]
  },
  {
   "cell_type": "markdown",
   "metadata": {},
   "source": [
    "### To Do: \n",
    "- fix bug sometimes giving Inf in first bin of smoothed profiles\n",
    "- replace smd_nfw.c with cython version\n",
    "- write more tests\n",
    "- use decorators (@property, @setter, @deleter) instead of update_z(), for example\n",
    "- option to pass in a $M_{prelim}$ and $M_{200} = a \\times$ $M_{prelim}$ relation"
   ]
  },
  {
   "cell_type": "code",
   "execution_count": null,
   "metadata": {
    "collapsed": true
   },
   "outputs": [],
   "source": []
  }
 ],
 "metadata": {
  "kernelspec": {
   "display_name": "Python 2",
   "language": "python",
   "name": "python2"
  },
  "language_info": {
   "codemirror_mode": {
    "name": "ipython",
    "version": 2
   },
   "file_extension": ".py",
   "mimetype": "text/x-python",
   "name": "python",
   "nbconvert_exporter": "python",
   "pygments_lexer": "ipython2",
   "version": "2.7.11"
  }
 },
 "nbformat": 4,
 "nbformat_minor": 0
}
