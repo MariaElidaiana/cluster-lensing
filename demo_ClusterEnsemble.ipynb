{
 "cells": [
  {
   "cell_type": "markdown",
   "metadata": {},
   "source": [
    "# ClusterEnsemble demonstration\n",
    "Some example usage of how to build up a dataframe of galaxy cluster properties, including NFW halo profiles. Each cluster is treated as an individual, meaning we track its individual mass and redshift, and other properties. This is useful for fitting a stacked weak lensing profile, for example, where you want to avoid fitting a single average cluster mass."
   ]
  },
  {
   "cell_type": "code",
   "execution_count": 1,
   "metadata": {
    "collapsed": false
   },
   "outputs": [],
   "source": [
    "from __future__ import absolute_import, division, print_function\n",
    "\n",
    "%matplotlib inline\n",
    "%load_ext autoreload\n",
    "%autoreload 2\n",
    "\n",
    "import numpy as np\n",
    "from astropy import units\n",
    "from matplotlib import pyplot as plt\n",
    "\n",
    "#import seaborn as sns; sns.set() "
   ]
  },
  {
   "cell_type": "code",
   "execution_count": 2,
   "metadata": {
    "collapsed": false
   },
   "outputs": [],
   "source": [
    "from clusters import ClusterEnsemble"
   ]
  },
  {
   "cell_type": "markdown",
   "metadata": {},
   "source": [
    "### Create a ClusterEnsemble object by passing in a numpy array (or list) of redshifts"
   ]
  },
  {
   "cell_type": "code",
   "execution_count": 3,
   "metadata": {
    "collapsed": false
   },
   "outputs": [
    {
     "data": {
      "text/plain": [
       "'Ensemble of galaxy clusters and their properties.'"
      ]
     },
     "execution_count": 3,
     "metadata": {},
     "output_type": "execute_result"
    }
   ],
   "source": [
    "z = np.array([0.1,0.2,0.3])\n",
    "c = ClusterEnsemble(z)\n",
    "c.describe"
   ]
  },
  {
   "cell_type": "markdown",
   "metadata": {},
   "source": [
    "### Display what we have so far\n",
    "Below the DataFrame (which so far only contains the cluster redshifts), we see the default assumptions for the power-law slope and normalization that will be used to convert richness $N_{200}$ to mass $M_{200}$. We'll see how to change those parameters below."
   ]
  },
  {
   "cell_type": "code",
   "execution_count": 4,
   "metadata": {
    "collapsed": false
   },
   "outputs": [
    {
     "name": "stdout",
     "output_type": "stream",
     "text": [
      "\n",
      "Cluster Ensemble:\n"
     ]
    },
    {
     "data": {
      "text/html": [
       "<div>\n",
       "<table border=\"1\" class=\"dataframe\">\n",
       "  <thead>\n",
       "    <tr style=\"text-align: right;\">\n",
       "      <th></th>\n",
       "      <th>z</th>\n",
       "    </tr>\n",
       "  </thead>\n",
       "  <tbody>\n",
       "    <tr>\n",
       "      <th>0</th>\n",
       "      <td>0.1</td>\n",
       "    </tr>\n",
       "    <tr>\n",
       "      <th>1</th>\n",
       "      <td>0.2</td>\n",
       "    </tr>\n",
       "    <tr>\n",
       "      <th>2</th>\n",
       "      <td>0.3</td>\n",
       "    </tr>\n",
       "  </tbody>\n",
       "</table>\n",
       "</div>"
      ],
      "text/plain": [
       "     z\n",
       "0  0.1\n",
       "1  0.2\n",
       "2  0.3"
      ]
     },
     "metadata": {},
     "output_type": "display_data"
    },
    {
     "name": "stdout",
     "output_type": "stream",
     "text": [
      "\n",
      "Mass-Richness Power Law: M200 = norm * (N200 / 20) ^ slope\n",
      "   norm: 2.7e+13 solMass\n",
      "   slope: 1.4\n"
     ]
    }
   ],
   "source": [
    "c.show()"
   ]
  },
  {
   "cell_type": "markdown",
   "metadata": {},
   "source": [
    "### Add richness values to the dataframe\n",
    "This step will also generate $M_{200}$, $r_{200}$, $c_{200}$, scale radius $r_s$, and other parameters, assuming the scaling relation given below."
   ]
  },
  {
   "cell_type": "code",
   "execution_count": 5,
   "metadata": {
    "collapsed": false
   },
   "outputs": [
    {
     "name": "stdout",
     "output_type": "stream",
     "text": [
      "\n",
      "Cluster Ensemble:\n"
     ]
    },
    {
     "data": {
      "text/html": [
       "<div>\n",
       "<table border=\"1\" class=\"dataframe\">\n",
       "  <thead>\n",
       "    <tr style=\"text-align: right;\">\n",
       "      <th></th>\n",
       "      <th>z</th>\n",
       "      <th>n200</th>\n",
       "      <th>m200</th>\n",
       "      <th>r200</th>\n",
       "      <th>c200</th>\n",
       "      <th>delta_c</th>\n",
       "      <th>rs</th>\n",
       "    </tr>\n",
       "  </thead>\n",
       "  <tbody>\n",
       "    <tr>\n",
       "      <th>0</th>\n",
       "      <td>0.1</td>\n",
       "      <td>20</td>\n",
       "      <td>2.700000e+13</td>\n",
       "      <td>0.612222</td>\n",
       "      <td>5.821359</td>\n",
       "      <td>12329.828385</td>\n",
       "      <td>0.105168</td>\n",
       "    </tr>\n",
       "    <tr>\n",
       "      <th>1</th>\n",
       "      <td>0.2</td>\n",
       "      <td>20</td>\n",
       "      <td>2.700000e+13</td>\n",
       "      <td>0.591082</td>\n",
       "      <td>5.627032</td>\n",
       "      <td>11398.735247</td>\n",
       "      <td>0.105043</td>\n",
       "    </tr>\n",
       "    <tr>\n",
       "      <th>2</th>\n",
       "      <td>0.3</td>\n",
       "      <td>20</td>\n",
       "      <td>2.700000e+13</td>\n",
       "      <td>0.569474</td>\n",
       "      <td>5.426060</td>\n",
       "      <td>10482.820471</td>\n",
       "      <td>0.104952</td>\n",
       "    </tr>\n",
       "  </tbody>\n",
       "</table>\n",
       "</div>"
      ],
      "text/plain": [
       "     z  n200          m200      r200      c200       delta_c        rs\n",
       "0  0.1    20  2.700000e+13  0.612222  5.821359  12329.828385  0.105168\n",
       "1  0.2    20  2.700000e+13  0.591082  5.627032  11398.735247  0.105043\n",
       "2  0.3    20  2.700000e+13  0.569474  5.426060  10482.820471  0.104952"
      ]
     },
     "metadata": {},
     "output_type": "display_data"
    },
    {
     "name": "stdout",
     "output_type": "stream",
     "text": [
      "\n",
      "Mass-Richness Power Law: M200 = norm * (N200 / 20) ^ slope\n",
      "   norm: 2.7e+13 solMass\n",
      "   slope: 1.4\n"
     ]
    }
   ],
   "source": [
    "n200 = np.ones(3)*20.\n",
    "c.n200 = n200\n",
    "c.show()"
   ]
  },
  {
   "cell_type": "markdown",
   "metadata": {},
   "source": [
    "### Access any column of the dataframe as an array\n",
    "Notice that [astropy units](http://docs.astropy.org/en/stable/units/) are present for the appropriate columns."
   ]
  },
  {
   "cell_type": "code",
   "execution_count": 6,
   "metadata": {
    "collapsed": false
   },
   "outputs": [
    {
     "name": "stdout",
     "output_type": "stream",
     "text": [
      "z: \t [ 0.1  0.2  0.3]\n",
      "n200: \t [ 20.  20.  20.]\n",
      "r200: \t [ 0.61222163  0.59108187  0.56947428] Mpc\n",
      "m200: \t [  2.70000000e+13   2.70000000e+13   2.70000000e+13] solMass\n",
      "c200: \t [ 5.82135877  5.62703234  5.42605953]\n",
      "rs: \t [ 0.10516817  0.10504327  0.10495172] Mpc\n"
     ]
    }
   ],
   "source": [
    "print('z: \\t', c.z)\n",
    "print('n200: \\t', c.n200)\n",
    "print('r200: \\t', c.r200)\n",
    "print('m200: \\t', c.m200)\n",
    "print('c200: \\t', c.c200)\n",
    "print('rs: \\t', c.rs)"
   ]
  },
  {
   "cell_type": "markdown",
   "metadata": {},
   "source": [
    "### If you don't want units, you can get just the values"
   ]
  },
  {
   "cell_type": "code",
   "execution_count": 7,
   "metadata": {
    "collapsed": false
   },
   "outputs": [
    {
     "data": {
      "text/plain": [
       "array([ 0.61222163,  0.59108187,  0.56947428])"
      ]
     },
     "execution_count": 7,
     "metadata": {},
     "output_type": "execute_result"
    }
   ],
   "source": [
    "c.r200.value"
   ]
  },
  {
   "cell_type": "markdown",
   "metadata": {},
   "source": [
    "### Or access the Pandas DataFrame directly"
   ]
  },
  {
   "cell_type": "code",
   "execution_count": 8,
   "metadata": {
    "collapsed": false
   },
   "outputs": [
    {
     "data": {
      "text/html": [
       "<div>\n",
       "<table border=\"1\" class=\"dataframe\">\n",
       "  <thead>\n",
       "    <tr style=\"text-align: right;\">\n",
       "      <th></th>\n",
       "      <th>z</th>\n",
       "      <th>n200</th>\n",
       "      <th>m200</th>\n",
       "      <th>r200</th>\n",
       "      <th>c200</th>\n",
       "      <th>delta_c</th>\n",
       "      <th>rs</th>\n",
       "    </tr>\n",
       "  </thead>\n",
       "  <tbody>\n",
       "    <tr>\n",
       "      <th>0</th>\n",
       "      <td>0.1</td>\n",
       "      <td>20</td>\n",
       "      <td>2.700000e+13</td>\n",
       "      <td>0.612222</td>\n",
       "      <td>5.821359</td>\n",
       "      <td>12329.828385</td>\n",
       "      <td>0.105168</td>\n",
       "    </tr>\n",
       "    <tr>\n",
       "      <th>1</th>\n",
       "      <td>0.2</td>\n",
       "      <td>20</td>\n",
       "      <td>2.700000e+13</td>\n",
       "      <td>0.591082</td>\n",
       "      <td>5.627032</td>\n",
       "      <td>11398.735247</td>\n",
       "      <td>0.105043</td>\n",
       "    </tr>\n",
       "    <tr>\n",
       "      <th>2</th>\n",
       "      <td>0.3</td>\n",
       "      <td>20</td>\n",
       "      <td>2.700000e+13</td>\n",
       "      <td>0.569474</td>\n",
       "      <td>5.426060</td>\n",
       "      <td>10482.820471</td>\n",
       "      <td>0.104952</td>\n",
       "    </tr>\n",
       "  </tbody>\n",
       "</table>\n",
       "</div>"
      ],
      "text/plain": [
       "     z  n200          m200      r200      c200       delta_c        rs\n",
       "0  0.1    20  2.700000e+13  0.612222  5.821359  12329.828385  0.105168\n",
       "1  0.2    20  2.700000e+13  0.591082  5.627032  11398.735247  0.105043\n",
       "2  0.3    20  2.700000e+13  0.569474  5.426060  10482.820471  0.104952"
      ]
     },
     "execution_count": 8,
     "metadata": {},
     "output_type": "execute_result"
    }
   ],
   "source": [
    "c.dataframe"
   ]
  },
  {
   "cell_type": "markdown",
   "metadata": {},
   "source": [
    "### Change the redshifts or richness values\n",
    "These changes will propogate to all redshift-dependant or richness-dependant cluster attributes, as appropriate."
   ]
  },
  {
   "cell_type": "code",
   "execution_count": 9,
   "metadata": {
    "collapsed": false
   },
   "outputs": [
    {
     "data": {
      "text/html": [
       "<div>\n",
       "<table border=\"1\" class=\"dataframe\">\n",
       "  <thead>\n",
       "    <tr style=\"text-align: right;\">\n",
       "      <th></th>\n",
       "      <th>z</th>\n",
       "      <th>n200</th>\n",
       "      <th>m200</th>\n",
       "      <th>r200</th>\n",
       "      <th>c200</th>\n",
       "      <th>delta_c</th>\n",
       "      <th>rs</th>\n",
       "    </tr>\n",
       "  </thead>\n",
       "  <tbody>\n",
       "    <tr>\n",
       "      <th>0</th>\n",
       "      <td>0.4</td>\n",
       "      <td>20</td>\n",
       "      <td>2.700000e+13</td>\n",
       "      <td>0.547827</td>\n",
       "      <td>5.229151</td>\n",
       "      <td>9630.870869</td>\n",
       "      <td>0.104764</td>\n",
       "    </tr>\n",
       "    <tr>\n",
       "      <th>1</th>\n",
       "      <td>0.5</td>\n",
       "      <td>20</td>\n",
       "      <td>2.700000e+13</td>\n",
       "      <td>0.526483</td>\n",
       "      <td>5.041283</td>\n",
       "      <td>8859.107775</td>\n",
       "      <td>0.104434</td>\n",
       "    </tr>\n",
       "    <tr>\n",
       "      <th>2</th>\n",
       "      <td>0.6</td>\n",
       "      <td>20</td>\n",
       "      <td>2.700000e+13</td>\n",
       "      <td>0.505701</td>\n",
       "      <td>4.864887</td>\n",
       "      <td>8170.244874</td>\n",
       "      <td>0.103949</td>\n",
       "    </tr>\n",
       "  </tbody>\n",
       "</table>\n",
       "</div>"
      ],
      "text/plain": [
       "     z  n200          m200      r200      c200      delta_c        rs\n",
       "0  0.4    20  2.700000e+13  0.547827  5.229151  9630.870869  0.104764\n",
       "1  0.5    20  2.700000e+13  0.526483  5.041283  8859.107775  0.104434\n",
       "2  0.6    20  2.700000e+13  0.505701  4.864887  8170.244874  0.103949"
      ]
     },
     "execution_count": 9,
     "metadata": {},
     "output_type": "execute_result"
    }
   ],
   "source": [
    "c.z = np.array([0.4,0.5,0.6])\n",
    "c.dataframe"
   ]
  },
  {
   "cell_type": "code",
   "execution_count": 10,
   "metadata": {
    "collapsed": false
   },
   "outputs": [
    {
     "name": "stdout",
     "output_type": "stream",
     "text": [
      "\n",
      "Cluster Ensemble:\n"
     ]
    },
    {
     "data": {
      "text/html": [
       "<div>\n",
       "<table border=\"1\" class=\"dataframe\">\n",
       "  <thead>\n",
       "    <tr style=\"text-align: right;\">\n",
       "      <th></th>\n",
       "      <th>z</th>\n",
       "      <th>n200</th>\n",
       "      <th>m200</th>\n",
       "      <th>r200</th>\n",
       "      <th>c200</th>\n",
       "      <th>delta_c</th>\n",
       "      <th>rs</th>\n",
       "    </tr>\n",
       "  </thead>\n",
       "  <tbody>\n",
       "    <tr>\n",
       "      <th>0</th>\n",
       "      <td>0.4</td>\n",
       "      <td>20</td>\n",
       "      <td>2.700000e+13</td>\n",
       "      <td>0.547827</td>\n",
       "      <td>5.229151</td>\n",
       "      <td>9630.870869</td>\n",
       "      <td>0.104764</td>\n",
       "    </tr>\n",
       "    <tr>\n",
       "      <th>1</th>\n",
       "      <td>0.5</td>\n",
       "      <td>30</td>\n",
       "      <td>4.763120e+13</td>\n",
       "      <td>0.636151</td>\n",
       "      <td>4.795641</td>\n",
       "      <td>7909.142281</td>\n",
       "      <td>0.132652</td>\n",
       "    </tr>\n",
       "    <tr>\n",
       "      <th>2</th>\n",
       "      <td>0.6</td>\n",
       "      <td>40</td>\n",
       "      <td>7.125343e+13</td>\n",
       "      <td>0.698834</td>\n",
       "      <td>4.477974</td>\n",
       "      <td>6777.240275</td>\n",
       "      <td>0.156060</td>\n",
       "    </tr>\n",
       "  </tbody>\n",
       "</table>\n",
       "</div>"
      ],
      "text/plain": [
       "     z  n200          m200      r200      c200      delta_c        rs\n",
       "0  0.4    20  2.700000e+13  0.547827  5.229151  9630.870869  0.104764\n",
       "1  0.5    30  4.763120e+13  0.636151  4.795641  7909.142281  0.132652\n",
       "2  0.6    40  7.125343e+13  0.698834  4.477974  6777.240275  0.156060"
      ]
     },
     "metadata": {},
     "output_type": "display_data"
    },
    {
     "name": "stdout",
     "output_type": "stream",
     "text": [
      "\n",
      "Mass-Richness Power Law: M200 = norm * (N200 / 20) ^ slope\n",
      "   norm: 2.7e+13 solMass\n",
      "   slope: 1.4\n"
     ]
    }
   ],
   "source": [
    "c.n200 = [20,30,40]\n",
    "c.show()"
   ]
  },
  {
   "cell_type": "markdown",
   "metadata": {},
   "source": [
    "### Change the parameters in the mass-richness relation\n",
    "Either or both of the keyword parameters \"slope\" and \"norm\" can be passed to the update_massrichrelation() method."
   ]
  },
  {
   "cell_type": "code",
   "execution_count": 11,
   "metadata": {
    "collapsed": false
   },
   "outputs": [
    {
     "name": "stdout",
     "output_type": "stream",
     "text": [
      "\n",
      "Cluster Ensemble:\n"
     ]
    },
    {
     "data": {
      "text/html": [
       "<div>\n",
       "<table border=\"1\" class=\"dataframe\">\n",
       "  <thead>\n",
       "    <tr style=\"text-align: right;\">\n",
       "      <th></th>\n",
       "      <th>z</th>\n",
       "      <th>n200</th>\n",
       "      <th>m200</th>\n",
       "      <th>r200</th>\n",
       "      <th>c200</th>\n",
       "      <th>delta_c</th>\n",
       "      <th>rs</th>\n",
       "    </tr>\n",
       "  </thead>\n",
       "  <tbody>\n",
       "    <tr>\n",
       "      <th>0</th>\n",
       "      <td>0.4</td>\n",
       "      <td>20</td>\n",
       "      <td>2.700000e+13</td>\n",
       "      <td>0.547827</td>\n",
       "      <td>5.229151</td>\n",
       "      <td>9630.870869</td>\n",
       "      <td>0.104764</td>\n",
       "    </tr>\n",
       "    <tr>\n",
       "      <th>1</th>\n",
       "      <td>0.5</td>\n",
       "      <td>30</td>\n",
       "      <td>4.960217e+13</td>\n",
       "      <td>0.644807</td>\n",
       "      <td>4.778560</td>\n",
       "      <td>7845.536637</td>\n",
       "      <td>0.134938</td>\n",
       "    </tr>\n",
       "    <tr>\n",
       "      <th>2</th>\n",
       "      <td>0.6</td>\n",
       "      <td>40</td>\n",
       "      <td>7.636753e+13</td>\n",
       "      <td>0.715169</td>\n",
       "      <td>4.451545</td>\n",
       "      <td>6687.866844</td>\n",
       "      <td>0.160656</td>\n",
       "    </tr>\n",
       "  </tbody>\n",
       "</table>\n",
       "</div>"
      ],
      "text/plain": [
       "     z  n200          m200      r200      c200      delta_c        rs\n",
       "0  0.4    20  2.700000e+13  0.547827  5.229151  9630.870869  0.104764\n",
       "1  0.5    30  4.960217e+13  0.644807  4.778560  7845.536637  0.134938\n",
       "2  0.6    40  7.636753e+13  0.715169  4.451545  6687.866844  0.160656"
      ]
     },
     "metadata": {},
     "output_type": "display_data"
    },
    {
     "name": "stdout",
     "output_type": "stream",
     "text": [
      "\n",
      "Mass-Richness Power Law: M200 = norm * (N200 / 20) ^ slope\n",
      "   norm: 2.7e+13 solMass\n",
      "   slope: 1.5\n"
     ]
    }
   ],
   "source": [
    "c.update_massrichrelation(slope = 1.5)\n",
    "c.show()"
   ]
  },
  {
   "cell_type": "markdown",
   "metadata": {},
   "source": [
    "### Show basic table\n",
    "Perhaps we don't want the fancy pandas formatting on our table, or maybe we're not working in the Jupyter notebook."
   ]
  },
  {
   "cell_type": "code",
   "execution_count": 12,
   "metadata": {
    "collapsed": false
   },
   "outputs": [
    {
     "name": "stdout",
     "output_type": "stream",
     "text": [
      "\n",
      "Cluster Ensemble:\n",
      "     z  n200          m200      r200      c200      delta_c        rs\n",
      "0  0.4    20  2.700000e+13  0.547827  5.229151  9630.870869  0.104764\n",
      "1  0.5    30  4.960217e+13  0.644807  4.778560  7845.536637  0.134938\n",
      "2  0.6    40  7.636753e+13  0.715169  4.451545  6687.866844  0.160656\n",
      "\n",
      "Mass-Richness Power Law: M200 = norm * (N200 / 20) ^ slope\n",
      "   norm: 2.7e+13 solMass\n",
      "   slope: 1.5\n"
     ]
    }
   ],
   "source": [
    "c.show(notebook = False)"
   ]
  },
  {
   "cell_type": "markdown",
   "metadata": {},
   "source": [
    "## Calculate $\\Sigma(r)$ and $\\Delta\\Sigma(r)$ for NFW model\n",
    "First select the radial bins in units of Mpc."
   ]
  },
  {
   "cell_type": "code",
   "execution_count": 13,
   "metadata": {
    "collapsed": false
   },
   "outputs": [],
   "source": [
    "rmin, rmax = 0.1, 5. #Mpc\n",
    "nbins = 50\n",
    "rbins = np.logspace(np.log10(rmin), np.log10(rmax), num = nbins)\n",
    "#rbins"
   ]
  },
  {
   "cell_type": "code",
   "execution_count": 14,
   "metadata": {
    "collapsed": false
   },
   "outputs": [
    {
     "name": "stdout",
     "output_type": "stream",
     "text": [
      "100 loops, best of 3: 15.2 ms per loop\n"
     ]
    }
   ],
   "source": [
    "%timeit c.calc_nfw(rbins)\n",
    "sigma = c.sigma_nfw\n",
    "dsigma = c.deltasigma_nfw"
   ]
  },
  {
   "cell_type": "markdown",
   "metadata": {},
   "source": [
    "### There is now a Python implentation of the NFW calculations \n",
    "Set the keyword parameter \"use_c = False\" to use python only. Note that this method is significantly faster than the C code, for the perfectly centered case (because it suboptimally writes/reads to disc in the latter case). *Currently, the Python option calculates centered halos, and miscentered $\\Sigma(r)$ (not miscentered $\\Delta\\Sigma(r)$).*"
   ]
  },
  {
   "cell_type": "code",
   "execution_count": 15,
   "metadata": {
    "collapsed": false
   },
   "outputs": [
    {
     "name": "stdout",
     "output_type": "stream",
     "text": [
      "1000 loops, best of 3: 1.2 ms per loop\n"
     ]
    }
   ],
   "source": [
    "%timeit c.calc_nfw(rbins, use_c = False)\n",
    "sigma_py = c.sigma_nfw\n",
    "dsigma_py = c.deltasigma_nfw"
   ]
  },
  {
   "cell_type": "code",
   "execution_count": 16,
   "metadata": {
    "collapsed": false
   },
   "outputs": [],
   "source": [
    "#check the results match\n",
    "np.testing.assert_allclose(sigma_py, sigma, rtol = 10**-4)\n",
    "np.testing.assert_allclose(dsigma_py, dsigma, rtol = 10**-4)"
   ]
  },
  {
   "cell_type": "code",
   "execution_count": 17,
   "metadata": {
    "collapsed": false
   },
   "outputs": [
    {
     "data": {
      "text/latex": [
       "$[[139.36788,~126.66303,~114.81548,~\\dots, 0.230053,~0.196671,~0.168096],~\n",
       " [219.22321,~200.90293,~183.63217,~\\dots, 0.446297,~0.381845,~0.326611],~\n",
       " [301.08201,~277.48675,~255.08265,~\\dots, 0.717916,~0.614658,~0.526081]] \\; \\mathrm{\\frac{M_{\\odot}}{pc^{2}}}$"
      ],
      "text/plain": [
       "<Quantity [[  1.39367876e+02,  1.26663035e+02,  1.14815477e+02,\n",
       "              1.03805742e+02,  9.36101700e+01,  8.42013230e+01,\n",
       "              7.55484460e+01,  6.76179810e+01,  6.03741370e+01,\n",
       "              5.37794370e+01,  4.77952470e+01,  4.23823420e+01,\n",
       "              3.75013710e+01,  3.31133390e+01,  2.91799890e+01,\n",
       "              2.56641680e+01,  2.25301110e+01,  1.97436760e+01,\n",
       "              1.72725260e+01,  1.50862520e+01,  1.31564500e+01,\n",
       "              1.14567540e+01,  9.96283900e+00,  8.65237900e+00,\n",
       "              7.50499500e+00,  6.50216600e+00,  5.62714400e+00,\n",
       "              4.86484000e+00,  4.20171900e+00,  3.62567700e+00,\n",
       "              3.12593500e+00,  2.69291700e+00,  2.31814600e+00,\n",
       "              1.99413500e+00,  1.71429100e+00,  1.47282000e+00,\n",
       "              1.26464200e+00,  1.08531500e+00,  9.30957000e-01,\n",
       "              7.98187000e-01,  6.84060000e-01,  5.86018000e-01,\n",
       "              5.01843000e-01,  4.29612000e-01,  3.67661000e-01,\n",
       "              3.14550000e-01,  2.69038000e-01,  2.30053000e-01,\n",
       "              1.96671000e-01,  1.68096000e-01],\n",
       "           [  2.19223213e+02,  2.00902925e+02,  1.83632169e+02,\n",
       "              1.67405855e+02,  1.52213010e+02,  1.38036958e+02,\n",
       "              1.24855589e+02,  1.12641733e+02,  1.01363674e+02,\n",
       "              9.09856890e+01,  8.14686250e+01,  7.27705860e+01,\n",
       "              6.48475450e+01,  5.76540400e+01,  5.11437640e+01,\n",
       "              4.52701960e+01,  3.99871270e+01,  3.52491550e+01,\n",
       "              3.10121150e+01,  2.72334260e+01,  2.38723870e+01,\n",
       "              2.08903960e+01,  1.82511110e+01,  1.59205470e+01,\n",
       "              1.38671280e+01,  1.20616880e+01,  1.04774400e+01,\n",
       "              9.08990500e+00,  7.87682600e+00,  6.81805500e+00,\n",
       "              5.89543100e+00,  5.09265100e+00,  4.39513100e+00,\n",
       "              3.78986800e+00,  3.26531300e+00,  2.81123000e+00,\n",
       "              2.41858000e+00,  2.07939600e+00,  1.78667700e+00,\n",
       "              1.53428200e+00,  1.31683500e+00,  1.12964200e+00,\n",
       "              9.68609000e-01,  8.30172000e-01,  7.11236000e-01,\n",
       "              6.09112000e-01,  5.21471000e-01,  4.46297000e-01,\n",
       "              3.81845000e-01,  3.26611000e-01],\n",
       "           [  3.01082010e+02,  2.77486750e+02,  2.55082646e+02,\n",
       "              2.33878623e+02,  2.13876909e+02,  1.95072950e+02,\n",
       "              1.77455420e+02,  1.61006379e+02,  1.45701630e+02,\n",
       "              1.31511117e+02,  1.18399415e+02,  1.06326418e+02,\n",
       "              9.52479540e+01,  8.51165730e+01,  7.58822450e+01,\n",
       "              6.74931490e+01,  5.98963860e+01,  5.30386670e+01,\n",
       "              4.68669640e+01,  4.13290700e+01,  3.63741070e+01,\n",
       "              3.19529480e+01,  2.80185590e+01,  2.45262710e+01,\n",
       "              2.14339730e+01,  1.87022380e+01,  1.62943890e+01,\n",
       "              1.41765180e+01,  1.23174440e+01,  1.06886520e+01,\n",
       "              9.26418900e+00,  8.02054300e+00,  6.93650800e+00,\n",
       "              5.99302700e+00,  5.17304600e+00,  4.46135000e+00,\n",
       "              3.84441600e+00,  3.31025300e+00,  2.84826700e+00,\n",
       "              2.44911500e+00,  2.10458400e+00,  1.80746600e+00,\n",
       "              1.55145200e+00,  1.33102600e+00,  1.14138000e+00,\n",
       "              9.78327000e-01,  8.38226000e-01,  7.17916000e-01,\n",
       "              6.14658000e-01,  5.26081000e-01]] solMass / pc2>"
      ]
     },
     "execution_count": 17,
     "metadata": {},
     "output_type": "execute_result"
    }
   ],
   "source": [
    "sigma"
   ]
  },
  {
   "cell_type": "code",
   "execution_count": 18,
   "metadata": {
    "collapsed": false
   },
   "outputs": [
    {
     "data": {
      "image/png": "[encoded data removed]",
      "text/plain": [
       "<matplotlib.figure.Figure at 0x108be4fd0>"
      ]
     },
     "metadata": {},
     "output_type": "display_data"
    }
   ],
   "source": [
    "fig = plt.figure(figsize=(12,5))\n",
    "fig.suptitle('Centered NFW Cluster Profiles', size=30)\n",
    "\n",
    "first = fig.add_subplot(1,2,1)\n",
    "second = fig.add_subplot(1,2,2)\n",
    "\n",
    "for rich, profile in zip(c.n200,c.deltasigma_nfw):\n",
    "    first.plot(rbins, profile, label='$N_{200}=$ '+str(rich))\n",
    "first.set_xscale('log')\n",
    "first.set_xlabel('$r\\ [\\mathrm{Mpc}]$', fontsize=20)\n",
    "first.set_ylabel('$\\Delta\\Sigma(r)\\ [\\mathrm{M}_\\mathrm{sun}/\\mathrm{pc}^2]$', \n",
    "                 fontsize=20)\n",
    "first.set_xlim(rbins.min(), rbins.max())\n",
    "first.legend(fontsize=20)\n",
    "\n",
    "\n",
    "for rich, profile in zip(c.n200,c.sigma_nfw):\n",
    "    second.plot(rbins, profile, label='$N_{200}=$ '+str(rich))\n",
    "second.set_xscale('log')\n",
    "second.set_xlabel('$r\\ [\\mathrm{Mpc}]$', fontsize=20)\n",
    "second.set_ylabel('$\\Sigma(r)\\ [\\mathrm{M}_\\mathrm{sun}/\\mathrm{pc}^2]$', \n",
    "                 fontsize=20)\n",
    "second.set_xlim(rbins.min(), rbins.max())\n",
    "second.legend(fontsize=20)\n",
    "\n",
    "\n",
    "fig.tight_layout()\n",
    "plt.subplots_adjust(top=0.88)"
   ]
  },
  {
   "cell_type": "markdown",
   "metadata": {},
   "source": [
    "# Calculate Miscentered NFW Profiles\n",
    "First select the offsets in units of Mpc. The offset values parameterize the width of the Gaussian distribution of offsets, and is $\\sigma_\\mathrm{off}$ in Equation 11 of [Ford et al 2015](http://arxiv.org/abs/1409.3571)."
   ]
  },
  {
   "cell_type": "code",
   "execution_count": 21,
   "metadata": {
    "collapsed": false
   },
   "outputs": [
    {
     "name": "stdout",
     "output_type": "stream",
     "text": [
      "1 loops, best of 3: 1.32 s per loop\n"
     ]
    }
   ],
   "source": [
    "offsets = np.array([0.09,0.09,0.09])\n",
    "%timeit c.calc_nfw(rbins, offsets=offsets)\n",
    "deltasigma_off = c.deltasigma_nfw\n",
    "sigma_off = c.sigma_nfw"
   ]
  },
  {
   "cell_type": "code",
   "execution_count": 31,
   "metadata": {
    "collapsed": false
   },
   "outputs": [
    {
     "data": {
      "image/png": "[encoded data removed]",
      "text/plain": [
       "<matplotlib.figure.Figure at 0x108f97f10>"
      ]
     },
     "metadata": {},
     "output_type": "display_data"
    }
   ],
   "source": [
    "fig = plt.figure(figsize=(12,5))\n",
    "fig.suptitle('Miscentered NFW Cluster Profiles', size=30)\n",
    "\n",
    "first = fig.add_subplot(1,2,1)\n",
    "second = fig.add_subplot(1,2,2)\n",
    "\n",
    "for rich, profile in zip(c.n200,deltasigma_off):\n",
    "    first.plot(rbins, profile, label='$N_{200}=$ '+str(rich))\n",
    "first.set_xscale('log')\n",
    "first.set_xlabel('$r\\ [\\mathrm{Mpc}]$', fontsize=20)\n",
    "first.set_ylabel('$\\Delta\\Sigma^\\mathrm{sm}(r)\\ [\\mathrm{M}_\\mathrm{sun}/\\mathrm{pc}^2]$', fontsize=20)\n",
    "first.set_xlim(rbins.min(), rbins.max())\n",
    "first.legend(fontsize=20)\n",
    "\n",
    "\n",
    "for rich, profile in zip(c.n200,sigma_off):\n",
    "    second.plot(rbins, profile, label='$N_{200}=$ '+str(rich))\n",
    "second.set_xscale('log')\n",
    "second.set_xlabel('$r\\ [\\mathrm{Mpc}]$', fontsize=20)\n",
    "second.set_ylabel('$\\Sigma^\\mathrm{sm}(r)\\ [\\mathrm{M}_\\mathrm{sun}/\\mathrm{pc}^2]$', \n",
    "                 fontsize=20)\n",
    "second.set_xlim(rbins.min(), rbins.max())\n",
    "second.legend(fontsize=20)\n",
    "\n",
    "\n",
    "fig.tight_layout()\n",
    "plt.subplots_adjust(top=0.88)"
   ]
  },
  {
   "cell_type": "markdown",
   "metadata": {},
   "source": [
    "### Python Calculation of $\\Sigma^\\mathrm{sm}(r)$\n",
    "Even with dblquad and large epsabs,epsrel allowances, this is way slow."
   ]
  },
  {
   "cell_type": "code",
   "execution_count": 24,
   "metadata": {
    "collapsed": false
   },
   "outputs": [
    {
     "name": "stdout",
     "output_type": "stream",
     "text": [
      "1 loops, best of 3: 1min 46s per loop\n"
     ]
    }
   ],
   "source": [
    "%timeit c.calc_nfw(rbins, offsets = offsets, use_c = False, \\\n",
    "                   epsabs = 0.5, epsrel = 0.5)\n",
    "sigma_off_py = c.sigma_nfw\n",
    "#deltasigma_off_py = c.deltasigma_nfw #not yet implemented"
   ]
  },
  {
   "cell_type": "code",
   "execution_count": 25,
   "metadata": {
    "collapsed": false
   },
   "outputs": [
    {
     "data": {
      "text/latex": [
       "$[[129.89664,~124.15135,~117.52228,~\\dots, 0.23024898,~0.19681411,~0.16820074],~\n",
       " [199.63139,~184.06566,~182.08746,~\\dots, 0.44667182,~0.3821201,~0.32681236],~\n",
       " [271.03504,~260.55428,~248.5749,~\\dots, 0.71851235,~0.61509576,~0.52640122]] \\; \\mathrm{\\frac{M_{\\odot}}{pc^{2}}}$"
      ],
      "text/plain": [
       "<Quantity [[  1.29896637e+02,  1.24151347e+02,  1.17522276e+02,\n",
       "              1.10658714e+02,  1.03365264e+02,  9.56405868e+01,\n",
       "              8.77012455e+01,  7.96684097e+01,  7.16536234e+01,\n",
       "              6.38641923e+01,  5.64761942e+01,  4.97837225e+01,\n",
       "              4.33290521e+01,  3.77257170e+01,  3.26880302e+01,\n",
       "              2.83925529e+01,  2.45895386e+01,  2.12950429e+01,\n",
       "              1.84420484e+01,  1.59672555e+01,  1.38193847e+01,\n",
       "              1.19551319e+01,  1.03370741e+01,  8.93303391e+00,\n",
       "              7.71518137e+00,  6.65935649e+00,  5.74453256e+00,\n",
       "              4.95238054e+00,  4.26690809e+00,  3.67415579e+00,\n",
       "              3.16193815e+00,  2.71962084e+00,  2.33792749e+00,\n",
       "              2.00877130e+00,  1.72510776e+00,  1.48080532e+00,\n",
       "              1.27053177e+00,  1.08965429e+00,  9.34151461e-01,\n",
       "              8.00535801e-01,  6.85785709e-01,  5.87285596e-01,\n",
       "              5.02773343e-01,  4.30294215e-01,  3.68160497e-01,\n",
       "              3.14916173e-01,  2.69306080e-01,  2.30248981e-01,\n",
       "              1.96814106e-01,  1.68200739e-01],\n",
       "           [  1.99631387e+02,  1.84065663e+02,  1.82087465e+02,\n",
       "              1.72286613e+02,  1.61826547e+02,  1.50714090e+02,\n",
       "              1.39220211e+02,  1.27509927e+02,  1.15743453e+02,\n",
       "              1.04147688e+02,  9.31250825e+01,  8.29050889e+01,\n",
       "              7.30357308e+01,  6.42292874e+01,  5.63023580e+01,\n",
       "              4.93528114e+01,  4.31332588e+01,  3.76642120e+01,\n",
       "              3.28636338e+01,  2.86497926e+01,  2.49533757e+01,\n",
       "              2.17137212e+01,  1.88768513e+01,  1.63950935e+01,\n",
       "              1.42262370e+01,  1.23328624e+01,  1.06817840e+01,\n",
       "              9.24357580e+00,  7.99216145e+00,  6.90445366e+00,\n",
       "              5.96003515e+00,  5.14087329e+00,  4.43106417e+00,\n",
       "              3.81660209e+00,  3.28517184e+00,  2.82596130e+00,\n",
       "              2.42949258e+00,  2.08746997e+00,  1.79264325e+00,\n",
       "              1.53868509e+00,  1.32008128e+00,  1.13203271e+00,\n",
       "              9.70368006e-01,  8.31465906e-01,  7.12186391e-01,\n",
       "              6.09809770e-01,  5.21982899e-01,  4.46671817e-01,\n",
       "              3.82120104e-01,  3.26812358e-01],\n",
       "           [  2.71035040e+02,  2.60554279e+02,  2.48574900e+02,\n",
       "              2.34935771e+02,  2.22480877e+02,  2.08115914e+02,\n",
       "              1.93195782e+02,  1.77924067e+02,  1.62504344e+02,\n",
       "              1.47221208e+02,  1.32565662e+02,  1.18829703e+02,\n",
       "              1.05527892e+02,  9.35036296e+01,  8.25668037e+01,\n",
       "              7.28528819e+01,  6.40872014e+01,  5.62995242e+01,\n",
       "              4.93981261e+01,  4.32877828e+01,  3.78851716e+01,\n",
       "              3.31154130e+01,  2.89103486e+01,  2.52085223e+01,\n",
       "              2.19545046e+01,  1.90983322e+01,  1.65950197e+01,\n",
       "              1.44041242e+01,  1.24893510e+01,  1.08181910e+01,\n",
       "              9.36158680e+00,  8.09362094e+00,  6.99122730e+00,\n",
       "              6.03392184e+00,  5.20355279e+00,  4.48406919e+00,\n",
       "              3.86130707e+00,  3.32279269e+00,  2.85756210e+00,\n",
       "              2.45599639e+00,  2.10967167e+00,  1.81122322e+00,\n",
       "              1.55422274e+00,  1.33306792e+00,  1.14288346e+00,\n",
       "              9.79432530e-01,  8.39037991e-01,  7.18512352e-01,\n",
       "              6.15095762e-01,  5.26401223e-01]] solMass / pc2>"
      ]
     },
     "execution_count": 25,
     "metadata": {},
     "output_type": "execute_result"
    }
   ],
   "source": [
    "sigma_off_py"
   ]
  },
  {
   "cell_type": "code",
   "execution_count": 26,
   "metadata": {
    "collapsed": false
   },
   "outputs": [
    {
     "data": {
      "text/latex": [
       "$[[130.00402,~124.13048,~117.72005,~\\dots, 0.230166,~0.196743,~0.16814],~\n",
       " [199.75313,~191.42788,~182.31627,~\\dots, 0.44651,~0.381982,~0.326694],~\n",
       " [271.16912,~260.51466,~248.83172,~\\dots, 0.718253,~0.614874,~0.526211]] \\; \\mathrm{\\frac{M_{\\odot}}{pc^{2}}}$"
      ],
      "text/plain": [
       "<Quantity [[  1.30004022e+02,  1.24130482e+02,  1.17720046e+02,\n",
       "              1.10824625e+02,  1.03444195e+02,  9.57367960e+01,\n",
       "              8.77717560e+01,  7.97193510e+01,  7.17240980e+01,\n",
       "              6.39543830e+01,  5.65407690e+01,  4.96435150e+01,\n",
       "              4.33539560e+01,  3.77134580e+01,  3.27285930e+01,\n",
       "              2.83671440e+01,  2.45703010e+01,  2.12797620e+01,\n",
       "              1.84294980e+01,  1.59572110e+01,  1.38114850e+01,\n",
       "              1.19487960e+01,  1.03319230e+01,  8.92880100e+00,\n",
       "              7.71167600e+00,  6.65643500e+00,  5.74208600e+00,\n",
       "              4.95032300e+00,  4.26517300e+00,  3.67268800e+00,\n",
       "              3.16069400e+00,  2.71856500e+00,  2.33703000e+00,\n",
       "              2.00800700e+00,  1.72445700e+00,  1.48025100e+00,\n",
       "              1.27005900e+00,  1.08925100e+00,  9.33807000e-01,\n",
       "              8.00242000e-01,  6.85535000e-01,  5.87071000e-01,\n",
       "              5.02590000e-01,  4.30138000e-01,  3.68027000e-01,\n",
       "              3.14802000e-01,  2.69209000e-01,  2.30166000e-01,\n",
       "              1.96743000e-01,  1.68140000e-01],\n",
       "           [  1.99753131e+02,  1.91427879e+02,  1.82316273e+02,\n",
       "              1.72477688e+02,  1.61914777e+02,  1.50822753e+02,\n",
       "              1.39298471e+02,  1.27565008e+02,  1.15821635e+02,\n",
       "              1.04301399e+02,  9.31962580e+01,  8.27342290e+01,\n",
       "              7.30597250e+01,  6.42530610e+01,  5.63461970e+01,\n",
       "              4.93170310e+01,  4.31041190e+01,  3.76400970e+01,\n",
       "              3.28433250e+01,  2.86331140e+01,  2.49399010e+01,\n",
       "              2.17026960e+01,  1.88677460e+01,  1.63875180e+01,\n",
       "              1.42198980e+01,  1.23275330e+01,  1.06772880e+01,\n",
       "              9.23977100e+00,  7.98893400e+00,  6.90171200e+00,\n",
       "              5.95770100e+00,  5.13888400e+00,  4.42936700e+00,\n",
       "              3.81515400e+00,  3.28393500e+00,  2.82490400e+00,\n",
       "              2.42858900e+00,  2.08669700e+00,  1.79198200e+00,\n",
       "              1.53812000e+00,  1.31959800e+00,  1.13161900e+00,\n",
       "              9.70015000e-01,  8.31164000e-01,  7.11928000e-01,\n",
       "              6.09589000e-01,  5.21794000e-01,  4.46510000e-01,\n",
       "              3.81982000e-01,  3.26694000e-01],\n",
       "           [  2.71169122e+02,  2.60514659e+02,  2.48831721e+02,\n",
       "              2.36184756e+02,  2.22576654e+02,  2.08235097e+02,\n",
       "              1.93280129e+02,  1.77981838e+02,  1.62588567e+02,\n",
       "              1.47392322e+02,  1.32641816e+02,  1.18629008e+02,\n",
       "              1.05549816e+02,  9.35241750e+01,  8.26121430e+01,\n",
       "              7.28061770e+01,  6.40477280e+01,  5.62660690e+01,\n",
       "              4.93694980e+01,  4.32638750e+01,  3.78655170e+01,\n",
       "              3.30991100e+01,  2.88967340e+01,  2.51970910e+01,\n",
       "              2.19448650e+01,  1.90901760e+01,  1.65880990e+01,\n",
       "              1.43982390e+01,  1.24843370e+01,  1.08139150e+01,\n",
       "              9.35793400e+00,  8.09049800e+00,  6.98855700e+00,\n",
       "              6.03163600e+00,  5.20159700e+00,  4.48239400e+00,\n",
       "              3.85987300e+00,  3.32156400e+00,  2.85651000e+00,\n",
       "              2.45509500e+00,  2.10890000e+00,  1.81056200e+00,\n",
       "              1.55365700e+00,  1.33258300e+00,  1.14246900e+00,\n",
       "              9.79078000e-01,  8.38734000e-01,  7.18253000e-01,\n",
       "              6.14874000e-01,  5.26211000e-01]] solMass / pc2>"
      ]
     },
     "execution_count": 26,
     "metadata": {},
     "output_type": "execute_result"
    }
   ],
   "source": [
    "sigma_off"
   ]
  },
  {
   "cell_type": "code",
   "execution_count": 29,
   "metadata": {
    "collapsed": false
   },
   "outputs": [],
   "source": [
    "#check the results match... \n",
    "np.testing.assert_allclose(sigma_off_py, sigma_off, rtol = 10**-1)\n",
    "\n",
    "#looks like 10**-1 to 10**-2 is the level at which the offset \n",
    "#profiles match, depending on what I set the epsabs,epsrel to be."
   ]
  },
  {
   "cell_type": "markdown",
   "metadata": {},
   "source": [
    "### To Do: \n",
    "- fix bug sometimes giving Inf in first bin of smoothed profiles\n",
    "- replace smd_nfw.c with cython version\n",
    "- option to pass in a $M_{prelim}$ and $M_{200} = a \\times$ $M_{prelim}$ relation?"
   ]
  }
 ],
 "metadata": {
  "kernelspec": {
   "display_name": "Python 2",
   "language": "python",
   "name": "python2"
  },
  "language_info": {
   "codemirror_mode": {
    "name": "ipython",
    "version": 2
   },
   "file_extension": ".py",
   "mimetype": "text/x-python",
   "name": "python",
   "nbconvert_exporter": "python",
   "pygments_lexer": "ipython2",
   "version": "2.7.11"
  }
 },
 "nbformat": 4,
 "nbformat_minor": 0
}
